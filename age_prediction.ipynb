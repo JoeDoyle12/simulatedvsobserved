{
 "cells": [
  {
   "cell_type": "code",
   "execution_count": 5,
   "id": "26893962-4be5-4c03-a9f8-0db186871feb",
   "metadata": {},
   "outputs": [],
   "source": [
    "import numpy as np\n",
    "import pandas as pd\n",
    "import seaborn as sns\n",
    "import matplotlib.pyplot as plt\n",
    "from sklearn.model_selection import train_test_split\n",
    "from sklearn.preprocessing import StandardScaler\n"
   ]
  },
  {
   "cell_type": "code",
   "execution_count": 6,
   "id": "f2573733-6170-4863-882a-d49f72ab8688",
   "metadata": {},
   "outputs": [
    {
     "ename": "FileNotFoundError",
     "evalue": "[Errno 2] No such file or directory: 'data/plasticc_train_metadata.csv'",
     "output_type": "error",
     "traceback": [
      "\u001b[0;31m---------------------------------------------------------------------------\u001b[0m",
      "\u001b[0;31mFileNotFoundError\u001b[0m                         Traceback (most recent call last)",
      "Cell \u001b[0;32mIn[6], line 1\u001b[0m\n\u001b[0;32m----> 1\u001b[0m dftrain \u001b[38;5;241m=\u001b[39m \u001b[43mpd\u001b[49m\u001b[38;5;241;43m.\u001b[39;49m\u001b[43mread_csv\u001b[49m\u001b[43m(\u001b[49m\u001b[38;5;124;43m\"\u001b[39;49m\u001b[38;5;124;43mdata/plasticc_train_metadata.csv\u001b[39;49m\u001b[38;5;124;43m\"\u001b[39;49m\u001b[43m)\u001b[49m\n\u001b[1;32m      3\u001b[0m dftest \u001b[38;5;241m=\u001b[39m pd\u001b[38;5;241m.\u001b[39mread_csv(\u001b[38;5;124m\"\u001b[39m\u001b[38;5;124mdata/plasticc_test_metadata.csv\u001b[39m\u001b[38;5;124m\"\u001b[39m)\n\u001b[1;32m      5\u001b[0m dftest \u001b[38;5;241m=\u001b[39m dftest[:\u001b[38;5;241m20000\u001b[39m]\n",
      "File \u001b[0;32m~/Library/Python/3.9/lib/python/site-packages/pandas/io/parsers/readers.py:1026\u001b[0m, in \u001b[0;36mread_csv\u001b[0;34m(filepath_or_buffer, sep, delimiter, header, names, index_col, usecols, dtype, engine, converters, true_values, false_values, skipinitialspace, skiprows, skipfooter, nrows, na_values, keep_default_na, na_filter, verbose, skip_blank_lines, parse_dates, infer_datetime_format, keep_date_col, date_parser, date_format, dayfirst, cache_dates, iterator, chunksize, compression, thousands, decimal, lineterminator, quotechar, quoting, doublequote, escapechar, comment, encoding, encoding_errors, dialect, on_bad_lines, delim_whitespace, low_memory, memory_map, float_precision, storage_options, dtype_backend)\u001b[0m\n\u001b[1;32m   1013\u001b[0m kwds_defaults \u001b[38;5;241m=\u001b[39m _refine_defaults_read(\n\u001b[1;32m   1014\u001b[0m     dialect,\n\u001b[1;32m   1015\u001b[0m     delimiter,\n\u001b[0;32m   (...)\u001b[0m\n\u001b[1;32m   1022\u001b[0m     dtype_backend\u001b[38;5;241m=\u001b[39mdtype_backend,\n\u001b[1;32m   1023\u001b[0m )\n\u001b[1;32m   1024\u001b[0m kwds\u001b[38;5;241m.\u001b[39mupdate(kwds_defaults)\n\u001b[0;32m-> 1026\u001b[0m \u001b[38;5;28;01mreturn\u001b[39;00m \u001b[43m_read\u001b[49m\u001b[43m(\u001b[49m\u001b[43mfilepath_or_buffer\u001b[49m\u001b[43m,\u001b[49m\u001b[43m \u001b[49m\u001b[43mkwds\u001b[49m\u001b[43m)\u001b[49m\n",
      "File \u001b[0;32m~/Library/Python/3.9/lib/python/site-packages/pandas/io/parsers/readers.py:620\u001b[0m, in \u001b[0;36m_read\u001b[0;34m(filepath_or_buffer, kwds)\u001b[0m\n\u001b[1;32m    617\u001b[0m _validate_names(kwds\u001b[38;5;241m.\u001b[39mget(\u001b[38;5;124m\"\u001b[39m\u001b[38;5;124mnames\u001b[39m\u001b[38;5;124m\"\u001b[39m, \u001b[38;5;28;01mNone\u001b[39;00m))\n\u001b[1;32m    619\u001b[0m \u001b[38;5;66;03m# Create the parser.\u001b[39;00m\n\u001b[0;32m--> 620\u001b[0m parser \u001b[38;5;241m=\u001b[39m \u001b[43mTextFileReader\u001b[49m\u001b[43m(\u001b[49m\u001b[43mfilepath_or_buffer\u001b[49m\u001b[43m,\u001b[49m\u001b[43m \u001b[49m\u001b[38;5;241;43m*\u001b[39;49m\u001b[38;5;241;43m*\u001b[39;49m\u001b[43mkwds\u001b[49m\u001b[43m)\u001b[49m\n\u001b[1;32m    622\u001b[0m \u001b[38;5;28;01mif\u001b[39;00m chunksize \u001b[38;5;129;01mor\u001b[39;00m iterator:\n\u001b[1;32m    623\u001b[0m     \u001b[38;5;28;01mreturn\u001b[39;00m parser\n",
      "File \u001b[0;32m~/Library/Python/3.9/lib/python/site-packages/pandas/io/parsers/readers.py:1620\u001b[0m, in \u001b[0;36mTextFileReader.__init__\u001b[0;34m(self, f, engine, **kwds)\u001b[0m\n\u001b[1;32m   1617\u001b[0m     \u001b[38;5;28mself\u001b[39m\u001b[38;5;241m.\u001b[39moptions[\u001b[38;5;124m\"\u001b[39m\u001b[38;5;124mhas_index_names\u001b[39m\u001b[38;5;124m\"\u001b[39m] \u001b[38;5;241m=\u001b[39m kwds[\u001b[38;5;124m\"\u001b[39m\u001b[38;5;124mhas_index_names\u001b[39m\u001b[38;5;124m\"\u001b[39m]\n\u001b[1;32m   1619\u001b[0m \u001b[38;5;28mself\u001b[39m\u001b[38;5;241m.\u001b[39mhandles: IOHandles \u001b[38;5;241m|\u001b[39m \u001b[38;5;28;01mNone\u001b[39;00m \u001b[38;5;241m=\u001b[39m \u001b[38;5;28;01mNone\u001b[39;00m\n\u001b[0;32m-> 1620\u001b[0m \u001b[38;5;28mself\u001b[39m\u001b[38;5;241m.\u001b[39m_engine \u001b[38;5;241m=\u001b[39m \u001b[38;5;28;43mself\u001b[39;49m\u001b[38;5;241;43m.\u001b[39;49m\u001b[43m_make_engine\u001b[49m\u001b[43m(\u001b[49m\u001b[43mf\u001b[49m\u001b[43m,\u001b[49m\u001b[43m \u001b[49m\u001b[38;5;28;43mself\u001b[39;49m\u001b[38;5;241;43m.\u001b[39;49m\u001b[43mengine\u001b[49m\u001b[43m)\u001b[49m\n",
      "File \u001b[0;32m~/Library/Python/3.9/lib/python/site-packages/pandas/io/parsers/readers.py:1880\u001b[0m, in \u001b[0;36mTextFileReader._make_engine\u001b[0;34m(self, f, engine)\u001b[0m\n\u001b[1;32m   1878\u001b[0m     \u001b[38;5;28;01mif\u001b[39;00m \u001b[38;5;124m\"\u001b[39m\u001b[38;5;124mb\u001b[39m\u001b[38;5;124m\"\u001b[39m \u001b[38;5;129;01mnot\u001b[39;00m \u001b[38;5;129;01min\u001b[39;00m mode:\n\u001b[1;32m   1879\u001b[0m         mode \u001b[38;5;241m+\u001b[39m\u001b[38;5;241m=\u001b[39m \u001b[38;5;124m\"\u001b[39m\u001b[38;5;124mb\u001b[39m\u001b[38;5;124m\"\u001b[39m\n\u001b[0;32m-> 1880\u001b[0m \u001b[38;5;28mself\u001b[39m\u001b[38;5;241m.\u001b[39mhandles \u001b[38;5;241m=\u001b[39m \u001b[43mget_handle\u001b[49m\u001b[43m(\u001b[49m\n\u001b[1;32m   1881\u001b[0m \u001b[43m    \u001b[49m\u001b[43mf\u001b[49m\u001b[43m,\u001b[49m\n\u001b[1;32m   1882\u001b[0m \u001b[43m    \u001b[49m\u001b[43mmode\u001b[49m\u001b[43m,\u001b[49m\n\u001b[1;32m   1883\u001b[0m \u001b[43m    \u001b[49m\u001b[43mencoding\u001b[49m\u001b[38;5;241;43m=\u001b[39;49m\u001b[38;5;28;43mself\u001b[39;49m\u001b[38;5;241;43m.\u001b[39;49m\u001b[43moptions\u001b[49m\u001b[38;5;241;43m.\u001b[39;49m\u001b[43mget\u001b[49m\u001b[43m(\u001b[49m\u001b[38;5;124;43m\"\u001b[39;49m\u001b[38;5;124;43mencoding\u001b[39;49m\u001b[38;5;124;43m\"\u001b[39;49m\u001b[43m,\u001b[49m\u001b[43m \u001b[49m\u001b[38;5;28;43;01mNone\u001b[39;49;00m\u001b[43m)\u001b[49m\u001b[43m,\u001b[49m\n\u001b[1;32m   1884\u001b[0m \u001b[43m    \u001b[49m\u001b[43mcompression\u001b[49m\u001b[38;5;241;43m=\u001b[39;49m\u001b[38;5;28;43mself\u001b[39;49m\u001b[38;5;241;43m.\u001b[39;49m\u001b[43moptions\u001b[49m\u001b[38;5;241;43m.\u001b[39;49m\u001b[43mget\u001b[49m\u001b[43m(\u001b[49m\u001b[38;5;124;43m\"\u001b[39;49m\u001b[38;5;124;43mcompression\u001b[39;49m\u001b[38;5;124;43m\"\u001b[39;49m\u001b[43m,\u001b[49m\u001b[43m \u001b[49m\u001b[38;5;28;43;01mNone\u001b[39;49;00m\u001b[43m)\u001b[49m\u001b[43m,\u001b[49m\n\u001b[1;32m   1885\u001b[0m \u001b[43m    \u001b[49m\u001b[43mmemory_map\u001b[49m\u001b[38;5;241;43m=\u001b[39;49m\u001b[38;5;28;43mself\u001b[39;49m\u001b[38;5;241;43m.\u001b[39;49m\u001b[43moptions\u001b[49m\u001b[38;5;241;43m.\u001b[39;49m\u001b[43mget\u001b[49m\u001b[43m(\u001b[49m\u001b[38;5;124;43m\"\u001b[39;49m\u001b[38;5;124;43mmemory_map\u001b[39;49m\u001b[38;5;124;43m\"\u001b[39;49m\u001b[43m,\u001b[49m\u001b[43m \u001b[49m\u001b[38;5;28;43;01mFalse\u001b[39;49;00m\u001b[43m)\u001b[49m\u001b[43m,\u001b[49m\n\u001b[1;32m   1886\u001b[0m \u001b[43m    \u001b[49m\u001b[43mis_text\u001b[49m\u001b[38;5;241;43m=\u001b[39;49m\u001b[43mis_text\u001b[49m\u001b[43m,\u001b[49m\n\u001b[1;32m   1887\u001b[0m \u001b[43m    \u001b[49m\u001b[43merrors\u001b[49m\u001b[38;5;241;43m=\u001b[39;49m\u001b[38;5;28;43mself\u001b[39;49m\u001b[38;5;241;43m.\u001b[39;49m\u001b[43moptions\u001b[49m\u001b[38;5;241;43m.\u001b[39;49m\u001b[43mget\u001b[49m\u001b[43m(\u001b[49m\u001b[38;5;124;43m\"\u001b[39;49m\u001b[38;5;124;43mencoding_errors\u001b[39;49m\u001b[38;5;124;43m\"\u001b[39;49m\u001b[43m,\u001b[49m\u001b[43m \u001b[49m\u001b[38;5;124;43m\"\u001b[39;49m\u001b[38;5;124;43mstrict\u001b[39;49m\u001b[38;5;124;43m\"\u001b[39;49m\u001b[43m)\u001b[49m\u001b[43m,\u001b[49m\n\u001b[1;32m   1888\u001b[0m \u001b[43m    \u001b[49m\u001b[43mstorage_options\u001b[49m\u001b[38;5;241;43m=\u001b[39;49m\u001b[38;5;28;43mself\u001b[39;49m\u001b[38;5;241;43m.\u001b[39;49m\u001b[43moptions\u001b[49m\u001b[38;5;241;43m.\u001b[39;49m\u001b[43mget\u001b[49m\u001b[43m(\u001b[49m\u001b[38;5;124;43m\"\u001b[39;49m\u001b[38;5;124;43mstorage_options\u001b[39;49m\u001b[38;5;124;43m\"\u001b[39;49m\u001b[43m,\u001b[49m\u001b[43m \u001b[49m\u001b[38;5;28;43;01mNone\u001b[39;49;00m\u001b[43m)\u001b[49m\u001b[43m,\u001b[49m\n\u001b[1;32m   1889\u001b[0m \u001b[43m\u001b[49m\u001b[43m)\u001b[49m\n\u001b[1;32m   1890\u001b[0m \u001b[38;5;28;01massert\u001b[39;00m \u001b[38;5;28mself\u001b[39m\u001b[38;5;241m.\u001b[39mhandles \u001b[38;5;129;01mis\u001b[39;00m \u001b[38;5;129;01mnot\u001b[39;00m \u001b[38;5;28;01mNone\u001b[39;00m\n\u001b[1;32m   1891\u001b[0m f \u001b[38;5;241m=\u001b[39m \u001b[38;5;28mself\u001b[39m\u001b[38;5;241m.\u001b[39mhandles\u001b[38;5;241m.\u001b[39mhandle\n",
      "File \u001b[0;32m~/Library/Python/3.9/lib/python/site-packages/pandas/io/common.py:873\u001b[0m, in \u001b[0;36mget_handle\u001b[0;34m(path_or_buf, mode, encoding, compression, memory_map, is_text, errors, storage_options)\u001b[0m\n\u001b[1;32m    868\u001b[0m \u001b[38;5;28;01melif\u001b[39;00m \u001b[38;5;28misinstance\u001b[39m(handle, \u001b[38;5;28mstr\u001b[39m):\n\u001b[1;32m    869\u001b[0m     \u001b[38;5;66;03m# Check whether the filename is to be opened in binary mode.\u001b[39;00m\n\u001b[1;32m    870\u001b[0m     \u001b[38;5;66;03m# Binary mode does not support 'encoding' and 'newline'.\u001b[39;00m\n\u001b[1;32m    871\u001b[0m     \u001b[38;5;28;01mif\u001b[39;00m ioargs\u001b[38;5;241m.\u001b[39mencoding \u001b[38;5;129;01mand\u001b[39;00m \u001b[38;5;124m\"\u001b[39m\u001b[38;5;124mb\u001b[39m\u001b[38;5;124m\"\u001b[39m \u001b[38;5;129;01mnot\u001b[39;00m \u001b[38;5;129;01min\u001b[39;00m ioargs\u001b[38;5;241m.\u001b[39mmode:\n\u001b[1;32m    872\u001b[0m         \u001b[38;5;66;03m# Encoding\u001b[39;00m\n\u001b[0;32m--> 873\u001b[0m         handle \u001b[38;5;241m=\u001b[39m \u001b[38;5;28;43mopen\u001b[39;49m\u001b[43m(\u001b[49m\n\u001b[1;32m    874\u001b[0m \u001b[43m            \u001b[49m\u001b[43mhandle\u001b[49m\u001b[43m,\u001b[49m\n\u001b[1;32m    875\u001b[0m \u001b[43m            \u001b[49m\u001b[43mioargs\u001b[49m\u001b[38;5;241;43m.\u001b[39;49m\u001b[43mmode\u001b[49m\u001b[43m,\u001b[49m\n\u001b[1;32m    876\u001b[0m \u001b[43m            \u001b[49m\u001b[43mencoding\u001b[49m\u001b[38;5;241;43m=\u001b[39;49m\u001b[43mioargs\u001b[49m\u001b[38;5;241;43m.\u001b[39;49m\u001b[43mencoding\u001b[49m\u001b[43m,\u001b[49m\n\u001b[1;32m    877\u001b[0m \u001b[43m            \u001b[49m\u001b[43merrors\u001b[49m\u001b[38;5;241;43m=\u001b[39;49m\u001b[43merrors\u001b[49m\u001b[43m,\u001b[49m\n\u001b[1;32m    878\u001b[0m \u001b[43m            \u001b[49m\u001b[43mnewline\u001b[49m\u001b[38;5;241;43m=\u001b[39;49m\u001b[38;5;124;43m\"\u001b[39;49m\u001b[38;5;124;43m\"\u001b[39;49m\u001b[43m,\u001b[49m\n\u001b[1;32m    879\u001b[0m \u001b[43m        \u001b[49m\u001b[43m)\u001b[49m\n\u001b[1;32m    880\u001b[0m     \u001b[38;5;28;01melse\u001b[39;00m:\n\u001b[1;32m    881\u001b[0m         \u001b[38;5;66;03m# Binary mode\u001b[39;00m\n\u001b[1;32m    882\u001b[0m         handle \u001b[38;5;241m=\u001b[39m \u001b[38;5;28mopen\u001b[39m(handle, ioargs\u001b[38;5;241m.\u001b[39mmode)\n",
      "\u001b[0;31mFileNotFoundError\u001b[0m: [Errno 2] No such file or directory: 'data/plasticc_train_metadata.csv'"
     ]
    }
   ],
   "source": [
    "dftrain = pd.read_csv(\"data/plasticc_train_metadata.csv\")\n",
    "\n",
    "dftest = pd.read_csv(\"data/plasticc_test_metadata.csv\")\n",
    "\n",
    "dftest = dftest[:20000]\n",
    "\n",
    "dftest['target'] = dftest['true_target']\n",
    "\n",
    "dftrain = pd.concat([dftrain, dftest], axis=0, ignore_index=True)\n",
    "\n",
    "model_nums = {90:'SN Ia', 67:'SNIa-91bg', 52:'SNIax', 42:'SNII', 62:'SNIbc', 95:'SLSN-I', 15:'TDE', 64:'KN', 88:'AGN', 92:'RRL', 65:'M-dwarf', 16:'EB', 53:'Mira', 6:'muLens-Single', 991:'muLens-Binary', 992:'ILOT', 993:'CaRT', 994:'PISN', 995:'muLens-String'}\n",
    "\n",
    "sn_models = [90, 67, 52, 42, 62, 95, 15]\n",
    "\n",
    "dftrain = dftrain[dftrain['target'].isin(sn_models)]\n",
    "\n",
    "dftrain['target_names'] = dftrain['target'].map(model_nums)"
   ]
  },
  {
   "cell_type": "code",
   "execution_count": null,
   "id": "5a375ab5-109a-4766-8d0d-e717fbeb9820",
   "metadata": {},
   "outputs": [],
   "source": [
    "# print(dftrain)"
   ]
  },
  {
   "cell_type": "code",
   "execution_count": null,
   "id": "316d2df4-d625-4cc6-a203-e9b055d08b7a",
   "metadata": {},
   "outputs": [],
   "source": [
    "# print(dftrain[dftrain['object_id'] == 50409])"
   ]
  },
  {
   "cell_type": "code",
   "execution_count": null,
   "id": "dac94773-25f2-46bc-94b2-6b0e0086b104",
   "metadata": {},
   "outputs": [],
   "source": [
    "lcs = pd.read_csv(\"data/plasticc_train_lightcurves.csv\")\n",
    "lcs_test = pd.read_csv(\"data/plasticc_test_lightcurves_01.csv\")\n",
    "\n",
    "lcs = pd.concat([lcs, lcs_test[:3000000]], axis=0, ignore_index=True)\n",
    "\n",
    "# lcs = pd.merge(lcs, dftrain, on='object_id', how='inner')\n",
    "# lcs['passband']"
   ]
  },
  {
   "cell_type": "code",
   "execution_count": null,
   "id": "7e6e2e20-8d38-4ff9-bb3d-a108fea2bfb1",
   "metadata": {
    "scrolled": true
   },
   "outputs": [],
   "source": [
    "# #map passband idx to passband name\n",
    "# lcs['passband_name'] = [\"ugrizY\"[i] for i in lcs['passband']]\n",
    "# lcs_detected = lcs[lcs['detected_bool'] == True]\n",
    "# cols = sns.color_palette(\"Spectral_r\", 6)\n",
    "# VRO_bands = \"ugrizY\"\n",
    "\n",
    "# transients = np.unique(lcs_detected['object_id'])\n",
    "\n",
    "\n",
    "# fig, axs = plt.subplots(4, 5, figsize=(20, 15), sharex=True, sharey=False)\n",
    "# axs = axs.ravel()\n",
    "\n",
    "# for j in np.arange(20):\n",
    "#     transient = transients[j]\n",
    "#     lc = lcs_detected[lcs_detected['object_id'] == transient]\n",
    "#     for i in np.arange(len(VRO_bands)):\n",
    "#         band = VRO_bands[i]\n",
    "#         lc_band = lc[lc['passband_name'] == band]\n",
    "#         axs[j].errorbar(lc_band['mjd'] - np.nanmin(lc['mjd']), lc_band['flux'], yerr=lc_band['flux_err'], fmt='o', mec='k', c=cols[i], label=band)\n",
    "#     axs[j].set_ylabel(\"Flux\")\n",
    "#     axs[j].set_title(dftrain.loc[dftrain['object_id'] == transient, 'target_names'].values[0])\n",
    "# axs[-1].legend()\n",
    "# axs[0].set_xlim((-10, 200));\n",
    "# for idx in np.arange(15, 20):\n",
    "#     axs[idx].set_xlabel(\"Days since Discovery\");\n",
    "# fig.tight_layout(w_pad=0.1, h_pad=0.3)"
   ]
  },
  {
   "cell_type": "code",
   "execution_count": null,
   "id": "72b486de-42c8-4fa9-bc8f-d75884be1e20",
   "metadata": {},
   "outputs": [],
   "source": [
    "columns = ['object_id', 'mjd', 'passband', 'flux', 'flux_err']\n",
    "columns2 = ['mjd', 'passband', 'flux', 'flux_err']\n",
    "# filter wavelengths in angstroms\n",
    "wavelengths = {\n",
    "    0: 3671.0,\n",
    "    1: 4827.0,\n",
    "    2: 6223.0,\n",
    "    3: 7546.0,\n",
    "    4: 8691.0,\n",
    "    5: 9712.0\n",
    "}\n",
    "# print(lcs['passband'])\n",
    "lcs['passband'] = lcs['passband'].map(wavelengths)\n",
    "# lcs['passband']"
   ]
  },
  {
   "cell_type": "code",
   "execution_count": null,
   "id": "579ba84f-1934-4203-a719-22a0bd5dcc68",
   "metadata": {},
   "outputs": [],
   "source": [
    "# Prepare Train Data\n",
    "x_data = []\n",
    "y_data = []\n",
    "\n",
    "max_length = 352\n",
    "\n",
    "for id in dftrain['object_id']:\n",
    "    if len(lcs[lcs['object_id'] == id]) == 0:\n",
    "        continue\n",
    "    x_data.append(lcs[lcs['object_id'] == id][columns].reset_index())\n",
    "    #print(x_train[-1])\n",
    "    y_data.append(dftrain[dftrain['object_id'] == id][['object_id', 'true_peakmjd']].values.tolist()[0])\n",
    "\n",
    "    # Expand light curve data to max length with 0s\n",
    "    while len(x_data[-1].index) < max_length: \n",
    "        x_data[-1].loc[len(x_data[-1].index)] = [len(x_data[-1].index), id, 0, 0, 0, 0]\n",
    "    x_data[-1] = x_data[-1][columns]\n",
    "    #print(x_train[-1])\n"
   ]
  },
  {
   "cell_type": "code",
   "execution_count": null,
   "id": "e094a252-0fbe-494a-a21a-df3c9b7abf5b",
   "metadata": {},
   "outputs": [],
   "source": [
    "# Normalize Data\n",
    "for i in range(len(x_data)):\n",
    "    # try:\n",
    "    #     x_train[i] = x_train[i].values\n",
    "    # except AttributeError:\n",
    "    #     pass\n",
    "    y_data[i][1] -= 59000\n",
    "    y_data[i][1] /= 2000\n",
    "    for j in range(len(x_data[i])):\n",
    "        if x_data[i].loc[j]['mjd'] == 0:\n",
    "            continue\n",
    "        x_data[i].at[j, 'mjd'] -= 59000\n",
    "        x_data[i].at[j, 'mjd'] /= 2000\n",
    "        x_data[i].at[j, 'passband'] -= 3671\n",
    "        x_data[i].at[j, 'passband'] /= 6041"
   ]
  },
  {
   "cell_type": "code",
   "execution_count": null,
   "id": "0cf2afdc-4b31-4443-948c-f7d900b025e4",
   "metadata": {},
   "outputs": [],
   "source": []
  },
  {
   "cell_type": "code",
   "execution_count": null,
   "id": "c083854b-5066-4208-a821-c710449e837d",
   "metadata": {},
   "outputs": [],
   "source": [
    "x_train, x_test, y_train, y_test = train_test_split(\n",
    "     x_data, y_data, test_size=0.2, random_state=42)"
   ]
  },
  {
   "cell_type": "code",
   "execution_count": null,
   "id": "08a3d5bf-aadc-485c-9679-2099cac1ff1e",
   "metadata": {},
   "outputs": [],
   "source": [
    "x_test, x_val, y_test, y_val = train_test_split(\n",
    "    x_test, y_test, test_size=0.5, random_state=45)"
   ]
  },
  {
   "cell_type": "code",
   "execution_count": null,
   "id": "c0af4246-a956-4c37-95c7-9b8d8da3c213",
   "metadata": {},
   "outputs": [],
   "source": [
    "# print(y_test)"
   ]
  },
  {
   "cell_type": "code",
   "execution_count": null,
   "id": "00c49934-7fc3-4534-8616-a5e638a67a4e",
   "metadata": {},
   "outputs": [],
   "source": [
    "# print(dftrain[dftrain['object_id'] == 50409]])"
   ]
  },
  {
   "cell_type": "code",
   "execution_count": null,
   "id": "c501b971-a7c9-4e1e-8acf-4e5a1826b7c8",
   "metadata": {},
   "outputs": [],
   "source": [
    "\n",
    "# print(x_train)\n",
    "x_train_values = []\n",
    "for i in range(len(x_train)):\n",
    "    x_train_values.append([])\n",
    "    for row in x_train[i].values:\n",
    "        x_train_values[-1].append(row[1:])\n",
    "y_train_values = [np.array(y[1]) for y in y_train]\n",
    "\n",
    "x_test_values = []\n",
    "for i in range(len(x_test)):\n",
    "    x_test_values.append([])\n",
    "    for row in x_test[i].values:\n",
    "        x_test_values[-1].append(row[1:])\n",
    "y_test_values = [np.array(y[1]) for y in y_test]\n",
    "\n",
    "x_val_values = []\n",
    "for i in range(len(x_val)):\n",
    "    x_val_values.append([])\n",
    "    for row in x_val[i].values:\n",
    "        x_val_values[-1].append(row[1:])\n",
    "y_val_values = [np.array(y[1]) for y in y_val]\n",
    "\n",
    "# dftest = pd.read_csv('data/plasticc_test_metadata.csv')\n",
    "\n",
    "# lcs_test = pd.read_csv('data/plasticc_test_lightcurves_01.csv')\n",
    "# lcs_val = pd.read_csv('data/plasticc_test_lightcurves_02.csv')\n",
    "\n",
    "# print(lcs, lcs_test, lcs_val)\n",
    "\n",
    "# lcs_test['passband'] = lcs_test['passband'].map(wavelengths)\n",
    "# lcs_val['passband'] = lcs_val['passband'].map(wavelengths)\n",
    "\n",
    "# dftest = dftest[dftest['true_target'].isin(sn_models)]\n",
    "\n",
    "# dftest['target_names'] = dftest['true_target'].map(model_nums)\n",
    "\n",
    "# # lcs_test = pd.merge(lcs_test, dftest, on='object_id', how='inner')\n",
    "# # lcs_val = pd.merge(lcs_val, dftest, on='object_id', how='inner')\n",
    "\n",
    "# x_test, x_val, y_test, y_val = [], [], [], []"
   ]
  },
  {
   "cell_type": "code",
   "execution_count": null,
   "id": "50bae55e-2615-45f3-9988-ac64babcd4c4",
   "metadata": {},
   "outputs": [],
   "source": [
    "# for id in dftest['object_id']:\n",
    "#     # print(id)\n",
    "#     if len(lcs_test[lcs_test['object_id'] == id]) > 0:\n",
    "#         # print(\"test: \" + id, flush=True)\n",
    "#         x_test.append(lcs_test[lcs_test['object_id'] == id][columns].reset_index())\n",
    "#         y_test.append(dftest[dftest['object_id'] == id]['true_peakmjd'])\n",
    "#         print(len(x_test[-1].index)\n",
    "#         # while len(x_test[-1].index) < max_length:\n",
    "#         #     x_test[-1].loc[len(x_test[-1].index)] = [len(x_test[-1].index), 0, 0, 0, 0]\n",
    "#         # x_test[-1] = x_test[-1][columns]\n",
    "\n",
    "# print(x_test)\n"
   ]
  },
  {
   "cell_type": "code",
   "execution_count": null,
   "id": "ef077c74-87cc-429a-bede-5f74c8ee156e",
   "metadata": {},
   "outputs": [],
   "source": [
    "# for id in dftest['object_id']:\n",
    "#     if len(lcs_val[lcs_val['object_id'] == id]) > 0:\n",
    "#         # print(\"val: \" + id, flush=True)\n",
    "#         x_val.append(lcs_val[lcs_val['object_id'] == id][columns].reset_index())\n",
    "#         y_val.append(dftest[dftest['object_id'] == id]['true_peakmjd'])\n",
    "#         while len(x_val[-1].index) < max_length:\n",
    "#             x_val[-1].loc[len(x_val[-1].index)] = [len(x_val[-1].index), 0, 0, 0, 0]\n",
    "#         x_val[-1] = x_val[-1][columns]"
   ]
  },
  {
   "cell_type": "code",
   "execution_count": null,
   "id": "de931b0a-9471-4c19-b8ac-485b24ebd808",
   "metadata": {},
   "outputs": [],
   "source": [
    "# print(x_train_values[:2])\n",
    "# y_train_values[:2]"
   ]
  },
  {
   "cell_type": "code",
   "execution_count": null,
   "id": "db75d312-9f84-4d53-8a13-4f9c5fccc99c",
   "metadata": {},
   "outputs": [],
   "source": [
    "# Build Model\n",
    "\n",
    "import tensorflow as tf\n",
    "# import tensorflow_probability as tfp\n",
    "\n",
    "tf.random.set_seed(1)\n",
    "\n",
    "model = tf.keras.Sequential([\n",
    "    tf.keras.layers.Input((352, 4)),\n",
    "    tf.keras.layers.Masking(mask_value=tf.convert_to_tensor(np.array([0.0, 0.0, 0.0, 0.0], dtype=np.float32))),\n",
    "    tf.keras.layers.GRU(50, return_sequences=True, activation='tanh'),\n",
    "    tf.keras.layers.Dropout(0.2),\n",
    "    tf.keras.layers.GRU(50,activation='tanh'),\n",
    "    tf.keras.layers.Dropout(0.2),\n",
    "    tf.keras.layers.Dense(units=1, activation='sigmoid')])\n",
    "    # tfp.layers.DistributionLambda(lambda t: tfp.distributions.Normal(loc=t[..., :1],\n",
    "                           #scale=1e-3 + tf.math.softplus(0.05 * t[...,1:])))])\n",
    "\n",
    "\n",
    "model.compile(optimizer=tf.keras.optimizers.Adam(learning_rate=0.002),loss='mean_squared_error')\n",
    "# print(model.summary())"
   ]
  },
  {
   "cell_type": "code",
   "execution_count": null,
   "id": "477d2fbc-2b3a-4c4e-99a4-f68da7a7fcd9",
   "metadata": {},
   "outputs": [
    {
     "name": "stdout",
     "output_type": "stream",
     "text": [
      "11132 11132\n"
     ]
    }
   ],
   "source": [
    "print(len(x_train_values), len(y_train_values))"
   ]
  },
  {
   "cell_type": "code",
   "execution_count": null,
   "id": "1ecf88b1-b970-4fa6-a48b-aed42dca6476",
   "metadata": {},
   "outputs": [
    {
     "name": "stdout",
     "output_type": "stream",
     "text": [
      "\u001b[1m348/348\u001b[0m \u001b[32m━━━━━━━━━━━━━━━━━━━━\u001b[0m\u001b[37m\u001b[0m \u001b[1m61s\u001b[0m 170ms/step - loss: 0.0135 - val_loss: 0.0030\n"
     ]
    },
    {
     "data": {
      "text/plain": [
       "<keras.src.callbacks.history.History at 0x3f02be650>"
      ]
     },
     "execution_count": 21,
     "metadata": {},
     "output_type": "execute_result"
    }
   ],
   "source": [
    "### Train Model\n",
    "model.fit(np.array(x_train_values), np.array(y_train_values), epochs=1, validation_data=(np.array(x_val_values), np.array(y_val_values)))\n",
    "\n"
   ]
  },
  {
   "cell_type": "code",
   "execution_count": null,
   "id": "7cdc0192-01aa-4d61-b246-4a5543c881bf",
   "metadata": {},
   "outputs": [],
   "source": [
    "model.save('model.h5')"
   ]
  },
  {
   "cell_type": "code",
   "execution_count": null,
   "id": "6503ea02-6b81-438a-8706-2f93dc07c3b1",
   "metadata": {},
   "outputs": [],
   "source": []
  },
  {
   "cell_type": "code",
   "execution_count": null,
   "id": "03898ec0-a4ec-46b0-8902-136b7ccf48a7",
   "metadata": {},
   "outputs": [],
   "source": [
    "import pickle\n",
    "\n",
    "with open('x_test_values.pickle', 'wb') as file:\n",
    "    pickle.dump(x_test_values, file)\n",
    "\n",
    "with open('y_test.pickle', 'wb') as file:\n",
    "    pickle.dump(y_test, file)"
   ]
  },
  {
   "cell_type": "code",
   "execution_count": null,
   "id": "7317c6c9-ec7c-4e12-a1d0-b7c22259634c",
   "metadata": {},
   "outputs": [
    {
     "name": "stdout",
     "output_type": "stream",
     "text": [
      "(1392, 352, 4)\n",
      "\u001b[1m44/44\u001b[0m \u001b[32m━━━━━━━━━━━━━━━━━━━━\u001b[0m\u001b[37m\u001b[0m \u001b[1m2s\u001b[0m 41ms/step\n"
     ]
    }
   ],
   "source": [
    "print(np.array(x_test_values).shape)\n",
    "y_pred = model.predict(np.array(x_test_values))"
   ]
  },
  {
   "cell_type": "code",
   "execution_count": null,
   "id": "5acbf656-b536-4fd4-8db5-27028fb48a3b",
   "metadata": {},
   "outputs": [
    {
     "ename": "TypeError",
     "evalue": "Exception encountered when calling NotEqual.call().\n\n\u001b[1mFailed to convert elements of {'class_name': '__tensor__', 'config': {'dtype': 'float64', 'value': [0.0, 0.0, 0.0, 0.0]}} to Tensor. Consider casting elements to a supported type. See https://www.tensorflow.org/api_docs/python/tf/dtypes for supported TF dtypes.\u001b[0m\n\nArguments received by NotEqual.call():\n  • x1=tf.Tensor(shape=(32, 352, 4), dtype=float32)\n  • x2={'class_name': \"'__tensor__'\", 'config': {'dtype': \"'float64'\", 'value': ['0.0', '0.0', '0.0', '0.0']}}",
     "output_type": "error",
     "traceback": [
      "\u001b[0;31m---------------------------------------------------------------------------\u001b[0m",
      "\u001b[0;31mTypeError\u001b[0m                                 Traceback (most recent call last)",
      "Cell \u001b[0;32mIn[25], line 2\u001b[0m\n\u001b[1;32m      1\u001b[0m model2 \u001b[38;5;241m=\u001b[39m tf\u001b[38;5;241m.\u001b[39mkeras\u001b[38;5;241m.\u001b[39mmodels\u001b[38;5;241m.\u001b[39mload_model(\u001b[38;5;124m'\u001b[39m\u001b[38;5;124mmodel.keras\u001b[39m\u001b[38;5;124m'\u001b[39m)\n\u001b[0;32m----> 2\u001b[0m y_pred \u001b[38;5;241m=\u001b[39m model2\u001b[38;5;241m.\u001b[39mpredict(np\u001b[38;5;241m.\u001b[39marray(x_test_values))\n",
      "File \u001b[0;32m/opt/anaconda3/lib/python3.11/site-packages/keras/src/utils/traceback_utils.py:122\u001b[0m, in \u001b[0;36mfilter_traceback.<locals>.error_handler\u001b[0;34m(*args, **kwargs)\u001b[0m\n\u001b[1;32m    119\u001b[0m     filtered_tb \u001b[38;5;241m=\u001b[39m _process_traceback_frames(e\u001b[38;5;241m.\u001b[39m__traceback__)\n\u001b[1;32m    120\u001b[0m     \u001b[38;5;66;03m# To get the full stack trace, call:\u001b[39;00m\n\u001b[1;32m    121\u001b[0m     \u001b[38;5;66;03m# `keras.config.disable_traceback_filtering()`\u001b[39;00m\n\u001b[0;32m--> 122\u001b[0m     \u001b[38;5;28;01mraise\u001b[39;00m e\u001b[38;5;241m.\u001b[39mwith_traceback(filtered_tb) \u001b[38;5;28;01mfrom\u001b[39;00m \u001b[38;5;28;01mNone\u001b[39;00m\n\u001b[1;32m    123\u001b[0m \u001b[38;5;28;01mfinally\u001b[39;00m:\n\u001b[1;32m    124\u001b[0m     \u001b[38;5;28;01mdel\u001b[39;00m filtered_tb\n",
      "File \u001b[0;32m/opt/anaconda3/lib/python3.11/site-packages/keras/src/utils/traceback_utils.py:122\u001b[0m, in \u001b[0;36mfilter_traceback.<locals>.error_handler\u001b[0;34m(*args, **kwargs)\u001b[0m\n\u001b[1;32m    119\u001b[0m     filtered_tb \u001b[38;5;241m=\u001b[39m _process_traceback_frames(e\u001b[38;5;241m.\u001b[39m__traceback__)\n\u001b[1;32m    120\u001b[0m     \u001b[38;5;66;03m# To get the full stack trace, call:\u001b[39;00m\n\u001b[1;32m    121\u001b[0m     \u001b[38;5;66;03m# `keras.config.disable_traceback_filtering()`\u001b[39;00m\n\u001b[0;32m--> 122\u001b[0m     \u001b[38;5;28;01mraise\u001b[39;00m e\u001b[38;5;241m.\u001b[39mwith_traceback(filtered_tb) \u001b[38;5;28;01mfrom\u001b[39;00m \u001b[38;5;28;01mNone\u001b[39;00m\n\u001b[1;32m    123\u001b[0m \u001b[38;5;28;01mfinally\u001b[39;00m:\n\u001b[1;32m    124\u001b[0m     \u001b[38;5;28;01mdel\u001b[39;00m filtered_tb\n",
      "\u001b[0;31mTypeError\u001b[0m: Exception encountered when calling NotEqual.call().\n\n\u001b[1mFailed to convert elements of {'class_name': '__tensor__', 'config': {'dtype': 'float64', 'value': [0.0, 0.0, 0.0, 0.0]}} to Tensor. Consider casting elements to a supported type. See https://www.tensorflow.org/api_docs/python/tf/dtypes for supported TF dtypes.\u001b[0m\n\nArguments received by NotEqual.call():\n  • x1=tf.Tensor(shape=(32, 352, 4), dtype=float32)\n  • x2={'class_name': \"'__tensor__'\", 'config': {'dtype': \"'float64'\", 'value': ['0.0', '0.0', '0.0', '0.0']}}"
     ]
    }
   ],
   "source": [
    "model2 = tf.keras.models.load_model('model.h5')\n",
    "y_pred = model2.predict(np.array(x_test_values))"
   ]
  },
  {
   "cell_type": "code",
   "execution_count": null,
   "id": "dc90e1a7-b63e-411e-bc26-2cdfdf15a643",
   "metadata": {},
   "outputs": [],
   "source": [
    "print(np.array(x_test_values).shape)\n",
    "print(model.layers[0].mask_value)"
   ]
  },
  {
   "cell_type": "code",
   "execution_count": null,
   "id": "cdbe0b78-5d63-4f38-b56a-872d17a2fa0c",
   "metadata": {},
   "outputs": [],
   "source": [
    "def display_object(object_id, lightcurve_data, metadata, predicted=0):\n",
    "    lightcurve_data = lightcurve_data[lightcurve_data['object_id'] == object_id]\n",
    "    passbands = []\n",
    "    true_peaktime = metadata[metadata['object_id'] == object_id]['true_peakmjd']\n",
    "    print(true_peaktime)\n",
    "\n",
    "    for freq in range(6):\n",
    "        passbands.append(lightcurve_data[lightcurve_data['passband'] == freq][['mjd', 'flux']])\n",
    "\n",
    "    for p in passbands:\n",
    "        plt.scatter(p['mjd'], p['flux'])\n",
    "        print(true_peaktime)\n",
    "        plt.scatter(true_peaktime, [0])\n",
    "        if predicted > 0:\n",
    "            plt.scatter([predicted], [0])\n",
    "        \n",
    "\n",
    "    # plt.xlabel(\"Modified Julien Date\")\n",
    "\n",
    "    # plt.ylabel(\"Flux\")\n",
    "    \n",
    "    # plt.show()\n",
    "    plt.show()\n"
   ]
  },
  {
   "cell_type": "code",
   "execution_count": null,
   "id": "bc6dd2e5-3665-45f4-a538-f8719a9a596a",
   "metadata": {},
   "outputs": [],
   "source": [
    "display_object(95564, lcs, dftrain, 0.6931620000000003*2000+59000)"
   ]
  },
  {
   "cell_type": "code",
   "execution_count": null,
   "id": "5365825e-c39d-454f-ba56-8f2829a6bce9",
   "metadata": {},
   "outputs": [],
   "source": []
  }
 ],
 "metadata": {
  "kernelspec": {
   "display_name": "Python 3",
   "language": "python",
   "name": "python3"
  },
  "language_info": {
   "codemirror_mode": {
    "name": "ipython",
    "version": 3
   },
   "file_extension": ".py",
   "mimetype": "text/x-python",
   "name": "python",
   "nbconvert_exporter": "python",
   "pygments_lexer": "ipython3",
   "version": "3.9.6"
  }
 },
 "nbformat": 4,
 "nbformat_minor": 5
}
