{
 "cells": [
  {
   "cell_type": "code",
   "execution_count": 2,
   "id": "2bd59aea-238e-4882-8eae-f96c0a9ff95a",
   "metadata": {},
   "outputs": [
    {
     "name": "stdout",
     "output_type": "stream",
     "text": [
      "Requirement already satisfied: tensorflow in /opt/anaconda3/lib/python3.11/site-packages (2.17.0)\n",
      "Requirement already satisfied: absl-py>=1.0.0 in /opt/anaconda3/lib/python3.11/site-packages (from tensorflow) (2.1.0)\n",
      "Requirement already satisfied: astunparse>=1.6.0 in /opt/anaconda3/lib/python3.11/site-packages (from tensorflow) (1.6.3)\n",
      "Requirement already satisfied: flatbuffers>=24.3.25 in /opt/anaconda3/lib/python3.11/site-packages (from tensorflow) (24.3.25)\n",
      "Requirement already satisfied: gast!=0.5.0,!=0.5.1,!=0.5.2,>=0.2.1 in /opt/anaconda3/lib/python3.11/site-packages (from tensorflow) (0.6.0)\n",
      "Requirement already satisfied: google-pasta>=0.1.1 in /opt/anaconda3/lib/python3.11/site-packages (from tensorflow) (0.2.0)\n",
      "Requirement already satisfied: h5py>=3.10.0 in /opt/anaconda3/lib/python3.11/site-packages (from tensorflow) (3.11.0)\n",
      "Requirement already satisfied: libclang>=13.0.0 in /opt/anaconda3/lib/python3.11/site-packages (from tensorflow) (18.1.1)\n",
      "Requirement already satisfied: ml-dtypes<0.5.0,>=0.3.1 in /opt/anaconda3/lib/python3.11/site-packages (from tensorflow) (0.4.0)\n",
      "Requirement already satisfied: opt-einsum>=2.3.2 in /opt/anaconda3/lib/python3.11/site-packages (from tensorflow) (3.3.0)\n",
      "Requirement already satisfied: packaging in /opt/anaconda3/lib/python3.11/site-packages (from tensorflow) (23.1)\n",
      "Requirement already satisfied: protobuf!=4.21.0,!=4.21.1,!=4.21.2,!=4.21.3,!=4.21.4,!=4.21.5,<5.0.0dev,>=3.20.3 in /opt/anaconda3/lib/python3.11/site-packages (from tensorflow) (3.20.3)\n",
      "Requirement already satisfied: requests<3,>=2.21.0 in /opt/anaconda3/lib/python3.11/site-packages (from tensorflow) (2.31.0)\n",
      "Requirement already satisfied: setuptools in /opt/anaconda3/lib/python3.11/site-packages (from tensorflow) (68.2.2)\n",
      "Requirement already satisfied: six>=1.12.0 in /opt/anaconda3/lib/python3.11/site-packages (from tensorflow) (1.16.0)\n",
      "Requirement already satisfied: termcolor>=1.1.0 in /opt/anaconda3/lib/python3.11/site-packages (from tensorflow) (2.4.0)\n",
      "Requirement already satisfied: typing-extensions>=3.6.6 in /opt/anaconda3/lib/python3.11/site-packages (from tensorflow) (4.9.0)\n",
      "Requirement already satisfied: wrapt>=1.11.0 in /opt/anaconda3/lib/python3.11/site-packages (from tensorflow) (1.14.1)\n",
      "Requirement already satisfied: grpcio<2.0,>=1.24.3 in /opt/anaconda3/lib/python3.11/site-packages (from tensorflow) (1.66.0)\n",
      "Requirement already satisfied: tensorboard<2.18,>=2.17 in /opt/anaconda3/lib/python3.11/site-packages (from tensorflow) (2.17.1)\n",
      "Requirement already satisfied: keras>=3.2.0 in /opt/anaconda3/lib/python3.11/site-packages (from tensorflow) (3.5.0)\n",
      "Requirement already satisfied: tensorflow-io-gcs-filesystem>=0.23.1 in /opt/anaconda3/lib/python3.11/site-packages (from tensorflow) (0.37.1)\n",
      "Requirement already satisfied: numpy<2.0.0,>=1.23.5 in /opt/anaconda3/lib/python3.11/site-packages (from tensorflow) (1.26.4)\n",
      "Requirement already satisfied: wheel<1.0,>=0.23.0 in /opt/anaconda3/lib/python3.11/site-packages (from astunparse>=1.6.0->tensorflow) (0.41.2)\n",
      "Requirement already satisfied: rich in /opt/anaconda3/lib/python3.11/site-packages (from keras>=3.2.0->tensorflow) (13.3.5)\n",
      "Requirement already satisfied: namex in /opt/anaconda3/lib/python3.11/site-packages (from keras>=3.2.0->tensorflow) (0.0.8)\n",
      "Requirement already satisfied: optree in /opt/anaconda3/lib/python3.11/site-packages (from keras>=3.2.0->tensorflow) (0.12.1)\n",
      "Requirement already satisfied: charset-normalizer<4,>=2 in /opt/anaconda3/lib/python3.11/site-packages (from requests<3,>=2.21.0->tensorflow) (2.0.4)\n",
      "Requirement already satisfied: idna<4,>=2.5 in /opt/anaconda3/lib/python3.11/site-packages (from requests<3,>=2.21.0->tensorflow) (3.4)\n",
      "Requirement already satisfied: urllib3<3,>=1.21.1 in /opt/anaconda3/lib/python3.11/site-packages (from requests<3,>=2.21.0->tensorflow) (1.26.20)\n",
      "Requirement already satisfied: certifi>=2017.4.17 in /opt/anaconda3/lib/python3.11/site-packages (from requests<3,>=2.21.0->tensorflow) (2024.6.2)\n",
      "Requirement already satisfied: markdown>=2.6.8 in /opt/anaconda3/lib/python3.11/site-packages (from tensorboard<2.18,>=2.17->tensorflow) (3.4.1)\n",
      "Requirement already satisfied: tensorboard-data-server<0.8.0,>=0.7.0 in /opt/anaconda3/lib/python3.11/site-packages (from tensorboard<2.18,>=2.17->tensorflow) (0.7.2)\n",
      "Requirement already satisfied: werkzeug>=1.0.1 in /opt/anaconda3/lib/python3.11/site-packages (from tensorboard<2.18,>=2.17->tensorflow) (2.2.3)\n",
      "Requirement already satisfied: MarkupSafe>=2.1.1 in /opt/anaconda3/lib/python3.11/site-packages (from werkzeug>=1.0.1->tensorboard<2.18,>=2.17->tensorflow) (2.1.3)\n",
      "Requirement already satisfied: markdown-it-py<3.0.0,>=2.2.0 in /opt/anaconda3/lib/python3.11/site-packages (from rich->keras>=3.2.0->tensorflow) (2.2.0)\n",
      "Requirement already satisfied: pygments<3.0.0,>=2.13.0 in /opt/anaconda3/lib/python3.11/site-packages (from rich->keras>=3.2.0->tensorflow) (2.15.1)\n",
      "Requirement already satisfied: mdurl~=0.1 in /opt/anaconda3/lib/python3.11/site-packages (from markdown-it-py<3.0.0,>=2.2.0->rich->keras>=3.2.0->tensorflow) (0.1.0)\n"
     ]
    }
   ],
   "source": [
    "!pip install tensorflow"
   ]
  },
  {
   "cell_type": "code",
   "execution_count": 3,
   "id": "26893962-4be5-4c03-a9f8-0db186871feb",
   "metadata": {},
   "outputs": [],
   "source": [
    "import numpy as np\n",
    "import pandas as pd\n",
    "import seaborn as sns\n",
    "import matplotlib.pyplot as plt\n",
    "from sklearn.model_selection import train_test_split\n",
    "from sklearn.preprocessing import StandardScaler"
   ]
  },
  {
   "cell_type": "code",
   "execution_count": 4,
   "id": "f2573733-6170-4863-882a-d49f72ab8688",
   "metadata": {},
   "outputs": [],
   "source": [
    "dftrain = pd.read_csv(\"data/plasticc_train_metadata.csv\")\n",
    "\n",
    "dftest = pd.read_csv(\"data/plasticc_test_metadata.csv\")\n",
    "\n",
    "dftest = dftest[:20000]\n",
    "\n",
    "dftest['target'] = dftest['true_target']\n",
    "\n",
    "dftrain = pd.concat([dftrain, dftest], axis=0, ignore_index=True)\n",
    "\n",
    "model_nums = {90:'SN Ia', 67:'SNIa-91bg', 52:'SNIax', 42:'SNII', 62:'SNIbc', 95:'SLSN-I', 15:'TDE', 64:'KN', 88:'AGN', 92:'RRL', 65:'M-dwarf', 16:'EB', 53:'Mira', 6:'muLens-Single', 991:'muLens-Binary', 992:'ILOT', 993:'CaRT', 994:'PISN', 995:'muLens-String'}\n",
    "\n",
    "sn_models = [90, 67, 52, 42, 62, 95, 15]\n",
    "\n",
    "dftrain = dftrain[dftrain['target'].isin(sn_models)]\n",
    "\n",
    "dftrain['target_names'] = dftrain['target'].map(model_nums)"
   ]
  },
  {
   "cell_type": "code",
   "execution_count": 5,
   "id": "5a375ab5-109a-4766-8d0d-e717fbeb9820",
   "metadata": {},
   "outputs": [],
   "source": [
    "# print(dftrain)"
   ]
  },
  {
   "cell_type": "code",
   "execution_count": 6,
   "id": "316d2df4-d625-4cc6-a203-e9b055d08b7a",
   "metadata": {},
   "outputs": [],
   "source": [
    "# print(dftrain[dftrain['object_id'] == 50409])"
   ]
  },
  {
   "cell_type": "code",
   "execution_count": 7,
   "id": "dac94773-25f2-46bc-94b2-6b0e0086b104",
   "metadata": {},
   "outputs": [],
   "source": [
    "lcs = pd.read_csv(\"data/plasticc_train_lightcurves.csv\")\n",
    "lcs_test = pd.read_csv(\"data/plasticc_test_lightcurves_01.csv\")\n",
    "\n",
    "lcs = pd.concat([lcs, lcs_test[:3000000]], axis=0, ignore_index=True)\n",
    "\n",
    "# lcs = pd.merge(lcs, dftrain, on='object_id', how='inner')\n",
    "# lcs['passband']"
   ]
  },
  {
   "cell_type": "code",
   "execution_count": 8,
   "id": "7e6e2e20-8d38-4ff9-bb3d-a108fea2bfb1",
   "metadata": {
    "scrolled": true
   },
   "outputs": [],
   "source": [
    "# #map passband idx to passband name\n",
    "# lcs['passband_name'] = [\"ugrizY\"[i] for i in lcs['passband']]\n",
    "# lcs_detected = lcs[lcs['detected_bool'] == True]\n",
    "# cols = sns.color_palette(\"Spectral_r\", 6)\n",
    "# VRO_bands = \"ugrizY\"\n",
    "\n",
    "# transients = np.unique(lcs_detected['object_id'])\n",
    "\n",
    "\n",
    "# fig, axs = plt.subplots(4, 5, figsize=(20, 15), sharex=True, sharey=False)\n",
    "# axs = axs.ravel()\n",
    "\n",
    "# for j in np.arange(20):\n",
    "#     transient = transients[j]\n",
    "#     lc = lcs_detected[lcs_detected['object_id'] == transient]\n",
    "#     for i in np.arange(len(VRO_bands)):\n",
    "#         band = VRO_bands[i]\n",
    "#         lc_band = lc[lc['passband_name'] == band]\n",
    "#         axs[j].errorbar(lc_band['mjd'] - np.nanmin(lc['mjd']), lc_band['flux'], yerr=lc_band['flux_err'], fmt='o', mec='k', c=cols[i], label=band)\n",
    "#     axs[j].set_ylabel(\"Flux\")\n",
    "#     axs[j].set_title(dftrain.loc[dftrain['object_id'] == transient, 'target_names'].values[0])\n",
    "# axs[-1].legend()\n",
    "# axs[0].set_xlim((-10, 200));\n",
    "# for idx in np.arange(15, 20):\n",
    "#     axs[idx].set_xlabel(\"Days since Discovery\");\n",
    "# fig.tight_layout(w_pad=0.1, h_pad=0.3)"
   ]
  },
  {
   "cell_type": "code",
   "execution_count": 9,
   "id": "72b486de-42c8-4fa9-bc8f-d75884be1e20",
   "metadata": {},
   "outputs": [],
   "source": [
    "columns = ['object_id', 'mjd', 'passband', 'flux', 'flux_err']\n",
    "columns2 = ['mjd', 'passband', 'flux', 'flux_err']\n",
    "# filter wavelengths in angstroms\n",
    "wavelengths = {\n",
    "    0: 3671.0,\n",
    "    1: 4827.0,\n",
    "    2: 6223.0,\n",
    "    3: 7546.0,\n",
    "    4: 8691.0,\n",
    "    5: 9712.0\n",
    "}\n",
    "# print(lcs['passband'])\n",
    "lcs['passband'] = lcs['passband'].map(wavelengths)\n",
    "# lcs['passband']"
   ]
  },
  {
   "cell_type": "code",
   "execution_count": 10,
   "id": "579ba84f-1934-4203-a719-22a0bd5dcc68",
   "metadata": {},
   "outputs": [],
   "source": [
    "# Prepare Train Data\n",
    "x_data = []\n",
    "y_data = []\n",
    "\n",
    "max_length = 352\n",
    "\n",
    "for id in dftrain['object_id']:\n",
    "    if len(lcs[lcs['object_id'] == id]) == 0:\n",
    "        continue\n",
    "    x_data.append(lcs[lcs['object_id'] == id][columns].reset_index())\n",
    "    #print(x_train[-1])\n",
    "    y_data.append(dftrain[dftrain['object_id'] == id][['object_id', 'true_peakmjd']].values.tolist()[0])\n",
    "\n",
    "    # Expand light curve data to max length with 0s\n",
    "    while len(x_data[-1].index) < max_length: \n",
    "        x_data[-1].loc[len(x_data[-1].index)] = [len(x_data[-1].index), id, 0, 0, 0, 0]\n",
    "    x_data[-1] = x_data[-1][columns]\n",
    "    #print(x_train[-1])\n"
   ]
  },
  {
   "cell_type": "code",
   "execution_count": 11,
   "id": "e094a252-0fbe-494a-a21a-df3c9b7abf5b",
   "metadata": {},
   "outputs": [],
   "source": [
    "# Normalize Data\n",
    "for i in range(len(x_data)):\n",
    "    # try:\n",
    "    #     x_train[i] = x_train[i].values\n",
    "    # except AttributeError:\n",
    "    #     pass\n",
    "    y_data[i][1] -= 59000\n",
    "    y_data[i][1] /= 2000\n",
    "    for j in range(len(x_data[i])):\n",
    "        if x_data[i].loc[j]['mjd'] == 0:\n",
    "            continue\n",
    "        x_data[i].at[j, 'mjd'] -= 59000\n",
    "        x_data[i].at[j, 'mjd'] /= 2000\n",
    "        x_data[i].at[j, 'passband'] -= 3671\n",
    "        x_data[i].at[j, 'passband'] /= 6041"
   ]
  },
  {
   "cell_type": "code",
   "execution_count": null,
   "id": "0cf2afdc-4b31-4443-948c-f7d900b025e4",
   "metadata": {},
   "outputs": [],
   "source": []
  },
  {
   "cell_type": "code",
   "execution_count": 12,
   "id": "c083854b-5066-4208-a821-c710449e837d",
   "metadata": {},
   "outputs": [],
   "source": [
    "x_train, x_test, y_train, y_test = train_test_split(\n",
    "     x_data, y_data, test_size=0.2, random_state=42)"
   ]
  },
  {
   "cell_type": "code",
   "execution_count": 13,
   "id": "08a3d5bf-aadc-485c-9679-2099cac1ff1e",
   "metadata": {},
   "outputs": [],
   "source": [
    "x_test, x_val, y_test, y_val = train_test_split(\n",
    "    x_test, y_test, test_size=0.5, random_state=45)"
   ]
  },
  {
   "cell_type": "code",
   "execution_count": 14,
   "id": "c0af4246-a956-4c37-95c7-9b8d8da3c213",
   "metadata": {},
   "outputs": [],
   "source": [
    "# print(y_test)"
   ]
  },
  {
   "cell_type": "code",
   "execution_count": 15,
   "id": "00c49934-7fc3-4534-8616-a5e638a67a4e",
   "metadata": {},
   "outputs": [],
   "source": [
    "# print(dftrain[dftrain['object_id'] == 50409]])"
   ]
  },
  {
   "cell_type": "code",
   "execution_count": 16,
   "id": "c501b971-a7c9-4e1e-8acf-4e5a1826b7c8",
   "metadata": {},
   "outputs": [],
   "source": [
    "\n",
    "# print(x_train)\n",
    "x_train_values = []\n",
    "for i in range(len(x_train)):\n",
    "    x_train_values.append([])\n",
    "    for row in x_train[i].values:\n",
    "        x_train_values[-1].append(row[1:])\n",
    "y_train_values = [np.array(y[1]) for y in y_train]\n",
    "\n",
    "x_test_values = []\n",
    "for i in range(len(x_test)):\n",
    "    x_test_values.append([])\n",
    "    for row in x_test[i].values:\n",
    "        x_test_values[-1].append(row[1:])\n",
    "y_test_values = [np.array(y[1]) for y in y_test]\n",
    "\n",
    "x_val_values = []\n",
    "for i in range(len(x_val)):\n",
    "    x_val_values.append([])\n",
    "    for row in x_val[i].values:\n",
    "        x_val_values[-1].append(row[1:])\n",
    "y_val_values = [np.array(y[1]) for y in y_val]\n",
    "\n",
    "# dftest = pd.read_csv('data/plasticc_test_metadata.csv')\n",
    "\n",
    "# lcs_test = pd.read_csv('data/plasticc_test_lightcurves_01.csv')\n",
    "# lcs_val = pd.read_csv('data/plasticc_test_lightcurves_02.csv')\n",
    "\n",
    "# print(lcs, lcs_test, lcs_val)\n",
    "\n",
    "# lcs_test['passband'] = lcs_test['passband'].map(wavelengths)\n",
    "# lcs_val['passband'] = lcs_val['passband'].map(wavelengths)\n",
    "\n",
    "# dftest = dftest[dftest['true_target'].isin(sn_models)]\n",
    "\n",
    "# dftest['target_names'] = dftest['true_target'].map(model_nums)\n",
    "\n",
    "# # lcs_test = pd.merge(lcs_test, dftest, on='object_id', how='inner')\n",
    "# # lcs_val = pd.merge(lcs_val, dftest, on='object_id', how='inner')\n",
    "\n",
    "# x_test, x_val, y_test, y_val = [], [], [], []"
   ]
  },
  {
   "cell_type": "code",
   "execution_count": 17,
   "id": "50bae55e-2615-45f3-9988-ac64babcd4c4",
   "metadata": {},
   "outputs": [],
   "source": [
    "# for id in dftest['object_id']:\n",
    "#     # print(id)\n",
    "#     if len(lcs_test[lcs_test['object_id'] == id]) > 0:\n",
    "#         # print(\"test: \" + id, flush=True)\n",
    "#         x_test.append(lcs_test[lcs_test['object_id'] == id][columns].reset_index())\n",
    "#         y_test.append(dftest[dftest['object_id'] == id]['true_peakmjd'])\n",
    "#         print(len(x_test[-1].index)\n",
    "#         # while len(x_test[-1].index) < max_length:\n",
    "#         #     x_test[-1].loc[len(x_test[-1].index)] = [len(x_test[-1].index), 0, 0, 0, 0]\n",
    "#         # x_test[-1] = x_test[-1][columns]\n",
    "\n",
    "# print(x_test)\n"
   ]
  },
  {
   "cell_type": "code",
   "execution_count": 18,
   "id": "ef077c74-87cc-429a-bede-5f74c8ee156e",
   "metadata": {},
   "outputs": [],
   "source": [
    "# for id in dftest['object_id']:\n",
    "#     if len(lcs_val[lcs_val['object_id'] == id]) > 0:\n",
    "#         # print(\"val: \" + id, flush=True)\n",
    "#         x_val.append(lcs_val[lcs_val['object_id'] == id][columns].reset_index())\n",
    "#         y_val.append(dftest[dftest['object_id'] == id]['true_peakmjd'])\n",
    "#         while len(x_val[-1].index) < max_length:\n",
    "#             x_val[-1].loc[len(x_val[-1].index)] = [len(x_val[-1].index), 0, 0, 0, 0]\n",
    "#         x_val[-1] = x_val[-1][columns]"
   ]
  },
  {
   "cell_type": "code",
   "execution_count": 19,
   "id": "de931b0a-9471-4c19-b8ac-485b24ebd808",
   "metadata": {},
   "outputs": [],
   "source": [
    "# print(x_train_values[:2])\n",
    "# y_train_values[:2]"
   ]
  },
  {
   "cell_type": "code",
   "execution_count": 20,
   "id": "db75d312-9f84-4d53-8a13-4f9c5fccc99c",
   "metadata": {},
   "outputs": [],
   "source": [
    "# Build Model\n",
    "\n",
    "import tensorflow as tf\n",
    "# import tensorflow_probability as tfp\n",
    "\n",
    "tf.random.set_seed(1)\n",
    "\n",
    "model = tf.keras.Sequential([\n",
    "    tf.keras.layers.Input((352, 4)),\n",
    "    tf.keras.layers.Masking(mask_value=np.array([0, 0, 0, 0])),\n",
    "    tf.keras.layers.GRU(50, return_sequences=True, activation='tanh'),\n",
    "    tf.keras.layers.Dropout(0.2),\n",
    "    tf.keras.layers.GRU(50,activation='tanh'),\n",
    "    tf.keras.layers.Dropout(0.2),\n",
    "    tf.keras.layers.Dense(units=1, activation='sigmoid')])\n",
    "    # tfp.layers.DistributionLambda(lambda t: tfp.distributions.Normal(loc=t[..., :1],\n",
    "                           #scale=1e-3 + tf.math.softplus(0.05 * t[...,1:])))])\n",
    "\n",
    "\n",
    "model.compile(optimizer=tf.keras.optimizers.Adam(learning_rate=0.001),loss='mean_squared_error')\n",
    "# print(model.summary())"
   ]
  },
  {
   "cell_type": "code",
   "execution_count": 21,
   "id": "477d2fbc-2b3a-4c4e-99a4-f68da7a7fcd9",
   "metadata": {},
   "outputs": [
    {
     "name": "stdout",
     "output_type": "stream",
     "text": [
      "11132 11132\n"
     ]
    }
   ],
   "source": [
    "print(len(x_train_values), len(y_train_values))"
   ]
  },
  {
   "cell_type": "code",
   "execution_count": 22,
   "id": "1ecf88b1-b970-4fa6-a48b-aed42dca6476",
   "metadata": {},
   "outputs": [
    {
     "name": "stdout",
     "output_type": "stream",
     "text": [
      "Epoch 1/50\n",
      "\u001b[1m348/348\u001b[0m \u001b[32m━━━━━━━━━━━━━━━━━━━━\u001b[0m\u001b[37m\u001b[0m \u001b[1m61s\u001b[0m 169ms/step - loss: 0.0152 - val_loss: 0.0038\n",
      "Epoch 2/50\n",
      "\u001b[1m348/348\u001b[0m \u001b[32m━━━━━━━━━━━━━━━━━━━━\u001b[0m\u001b[37m\u001b[0m \u001b[1m58s\u001b[0m 168ms/step - loss: 0.0041 - val_loss: 0.0030\n",
      "Epoch 3/50\n",
      "\u001b[1m348/348\u001b[0m \u001b[32m━━━━━━━━━━━━━━━━━━━━\u001b[0m\u001b[37m\u001b[0m \u001b[1m59s\u001b[0m 169ms/step - loss: 0.0031 - val_loss: 0.0026\n",
      "Epoch 4/50\n",
      "\u001b[1m348/348\u001b[0m \u001b[32m━━━━━━━━━━━━━━━━━━━━\u001b[0m\u001b[37m\u001b[0m \u001b[1m59s\u001b[0m 169ms/step - loss: 0.0026 - val_loss: 0.0019\n",
      "Epoch 5/50\n",
      "\u001b[1m348/348\u001b[0m \u001b[32m━━━━━━━━━━━━━━━━━━━━\u001b[0m\u001b[37m\u001b[0m \u001b[1m60s\u001b[0m 174ms/step - loss: 0.0019 - val_loss: 0.0014\n",
      "Epoch 6/50\n",
      "\u001b[1m348/348\u001b[0m \u001b[32m━━━━━━━━━━━━━━━━━━━━\u001b[0m\u001b[37m\u001b[0m \u001b[1m61s\u001b[0m 174ms/step - loss: 0.0013 - val_loss: 0.0011\n",
      "Epoch 7/50\n",
      "\u001b[1m348/348\u001b[0m \u001b[32m━━━━━━━━━━━━━━━━━━━━\u001b[0m\u001b[37m\u001b[0m \u001b[1m63s\u001b[0m 180ms/step - loss: 0.0012 - val_loss: 8.9616e-04\n",
      "Epoch 8/50\n",
      "\u001b[1m348/348\u001b[0m \u001b[32m━━━━━━━━━━━━━━━━━━━━\u001b[0m\u001b[37m\u001b[0m \u001b[1m62s\u001b[0m 178ms/step - loss: 0.0010 - val_loss: 8.8175e-04\n",
      "Epoch 9/50\n",
      "\u001b[1m348/348\u001b[0m \u001b[32m━━━━━━━━━━━━━━━━━━━━\u001b[0m\u001b[37m\u001b[0m \u001b[1m61s\u001b[0m 176ms/step - loss: 9.7388e-04 - val_loss: 7.9761e-04\n",
      "Epoch 10/50\n",
      "\u001b[1m348/348\u001b[0m \u001b[32m━━━━━━━━━━━━━━━━━━━━\u001b[0m\u001b[37m\u001b[0m \u001b[1m60s\u001b[0m 172ms/step - loss: 9.3198e-04 - val_loss: 7.3934e-04\n",
      "Epoch 11/50\n",
      "\u001b[1m348/348\u001b[0m \u001b[32m━━━━━━━━━━━━━━━━━━━━\u001b[0m\u001b[37m\u001b[0m \u001b[1m60s\u001b[0m 173ms/step - loss: 8.4618e-04 - val_loss: 8.2795e-04\n",
      "Epoch 12/50\n",
      "\u001b[1m348/348\u001b[0m \u001b[32m━━━━━━━━━━━━━━━━━━━━\u001b[0m\u001b[37m\u001b[0m \u001b[1m60s\u001b[0m 172ms/step - loss: 8.1657e-04 - val_loss: 7.5417e-04\n",
      "Epoch 13/50\n",
      "\u001b[1m348/348\u001b[0m \u001b[32m━━━━━━━━━━━━━━━━━━━━\u001b[0m\u001b[37m\u001b[0m \u001b[1m59s\u001b[0m 171ms/step - loss: 7.4036e-04 - val_loss: 8.2861e-04\n",
      "Epoch 14/50\n",
      "\u001b[1m348/348\u001b[0m \u001b[32m━━━━━━━━━━━━━━━━━━━━\u001b[0m\u001b[37m\u001b[0m \u001b[1m60s\u001b[0m 174ms/step - loss: 7.7049e-04 - val_loss: 6.4497e-04\n",
      "Epoch 15/50\n",
      "\u001b[1m348/348\u001b[0m \u001b[32m━━━━━━━━━━━━━━━━━━━━\u001b[0m\u001b[37m\u001b[0m \u001b[1m61s\u001b[0m 174ms/step - loss: 6.5893e-04 - val_loss: 5.8692e-04\n",
      "Epoch 16/50\n",
      "\u001b[1m348/348\u001b[0m \u001b[32m━━━━━━━━━━━━━━━━━━━━\u001b[0m\u001b[37m\u001b[0m \u001b[1m61s\u001b[0m 174ms/step - loss: 6.1463e-04 - val_loss: 5.5950e-04\n",
      "Epoch 17/50\n",
      "\u001b[1m348/348\u001b[0m \u001b[32m━━━━━━━━━━━━━━━━━━━━\u001b[0m\u001b[37m\u001b[0m \u001b[1m65s\u001b[0m 186ms/step - loss: 6.0542e-04 - val_loss: 7.0340e-04\n",
      "Epoch 18/50\n",
      "\u001b[1m348/348\u001b[0m \u001b[32m━━━━━━━━━━━━━━━━━━━━\u001b[0m\u001b[37m\u001b[0m \u001b[1m64s\u001b[0m 185ms/step - loss: 5.6284e-04 - val_loss: 0.0011\n",
      "Epoch 19/50\n",
      "\u001b[1m348/348\u001b[0m \u001b[32m━━━━━━━━━━━━━━━━━━━━\u001b[0m\u001b[37m\u001b[0m \u001b[1m61s\u001b[0m 176ms/step - loss: 7.4317e-04 - val_loss: 5.0115e-04\n",
      "Epoch 20/50\n",
      "\u001b[1m348/348\u001b[0m \u001b[32m━━━━━━━━━━━━━━━━━━━━\u001b[0m\u001b[37m\u001b[0m \u001b[1m60s\u001b[0m 173ms/step - loss: 5.5468e-04 - val_loss: 4.7141e-04\n",
      "Epoch 21/50\n",
      "\u001b[1m348/348\u001b[0m \u001b[32m━━━━━━━━━━━━━━━━━━━━\u001b[0m\u001b[37m\u001b[0m \u001b[1m61s\u001b[0m 176ms/step - loss: 5.6803e-04 - val_loss: 4.8863e-04\n",
      "Epoch 22/50\n",
      "\u001b[1m348/348\u001b[0m \u001b[32m━━━━━━━━━━━━━━━━━━━━\u001b[0m\u001b[37m\u001b[0m \u001b[1m61s\u001b[0m 175ms/step - loss: 5.5423e-04 - val_loss: 4.9476e-04\n",
      "Epoch 23/50\n",
      "\u001b[1m348/348\u001b[0m \u001b[32m━━━━━━━━━━━━━━━━━━━━\u001b[0m\u001b[37m\u001b[0m \u001b[1m63s\u001b[0m 180ms/step - loss: 5.1671e-04 - val_loss: 9.2407e-04\n",
      "Epoch 24/50\n",
      "\u001b[1m348/348\u001b[0m \u001b[32m━━━━━━━━━━━━━━━━━━━━\u001b[0m\u001b[37m\u001b[0m \u001b[1m64s\u001b[0m 183ms/step - loss: 6.7557e-04 - val_loss: 5.6766e-04\n",
      "Epoch 25/50\n",
      "\u001b[1m348/348\u001b[0m \u001b[32m━━━━━━━━━━━━━━━━━━━━\u001b[0m\u001b[37m\u001b[0m \u001b[1m64s\u001b[0m 183ms/step - loss: 5.2510e-04 - val_loss: 5.1738e-04\n",
      "Epoch 26/50\n",
      "\u001b[1m348/348\u001b[0m \u001b[32m━━━━━━━━━━━━━━━━━━━━\u001b[0m\u001b[37m\u001b[0m \u001b[1m63s\u001b[0m 182ms/step - loss: 5.3452e-04 - val_loss: 5.0134e-04\n",
      "Epoch 27/50\n",
      "\u001b[1m348/348\u001b[0m \u001b[32m━━━━━━━━━━━━━━━━━━━━\u001b[0m\u001b[37m\u001b[0m \u001b[1m64s\u001b[0m 184ms/step - loss: 4.4675e-04 - val_loss: 4.2408e-04\n",
      "Epoch 28/50\n",
      "\u001b[1m348/348\u001b[0m \u001b[32m━━━━━━━━━━━━━━━━━━━━\u001b[0m\u001b[37m\u001b[0m \u001b[1m64s\u001b[0m 185ms/step - loss: 4.7454e-04 - val_loss: 5.1941e-04\n",
      "Epoch 29/50\n",
      "\u001b[1m348/348\u001b[0m \u001b[32m━━━━━━━━━━━━━━━━━━━━\u001b[0m\u001b[37m\u001b[0m \u001b[1m64s\u001b[0m 184ms/step - loss: 4.5084e-04 - val_loss: 4.8657e-04\n",
      "Epoch 30/50\n",
      "\u001b[1m348/348\u001b[0m \u001b[32m━━━━━━━━━━━━━━━━━━━━\u001b[0m\u001b[37m\u001b[0m \u001b[1m61s\u001b[0m 177ms/step - loss: 4.4660e-04 - val_loss: 5.7103e-04\n",
      "Epoch 31/50\n",
      "\u001b[1m348/348\u001b[0m \u001b[32m━━━━━━━━━━━━━━━━━━━━\u001b[0m\u001b[37m\u001b[0m \u001b[1m61s\u001b[0m 176ms/step - loss: 4.5639e-04 - val_loss: 4.0247e-04\n",
      "Epoch 32/50\n",
      "\u001b[1m348/348\u001b[0m \u001b[32m━━━━━━━━━━━━━━━━━━━━\u001b[0m\u001b[37m\u001b[0m \u001b[1m61s\u001b[0m 177ms/step - loss: 4.2893e-04 - val_loss: 5.3585e-04\n",
      "Epoch 33/50\n",
      "\u001b[1m348/348\u001b[0m \u001b[32m━━━━━━━━━━━━━━━━━━━━\u001b[0m\u001b[37m\u001b[0m \u001b[1m62s\u001b[0m 179ms/step - loss: 4.2923e-04 - val_loss: 3.9661e-04\n",
      "Epoch 34/50\n",
      "\u001b[1m348/348\u001b[0m \u001b[32m━━━━━━━━━━━━━━━━━━━━\u001b[0m\u001b[37m\u001b[0m \u001b[1m64s\u001b[0m 184ms/step - loss: 4.1510e-04 - val_loss: 3.6407e-04\n",
      "Epoch 35/50\n",
      "\u001b[1m348/348\u001b[0m \u001b[32m━━━━━━━━━━━━━━━━━━━━\u001b[0m\u001b[37m\u001b[0m \u001b[1m64s\u001b[0m 184ms/step - loss: 3.8806e-04 - val_loss: 3.7833e-04\n",
      "Epoch 36/50\n",
      "\u001b[1m348/348\u001b[0m \u001b[32m━━━━━━━━━━━━━━━━━━━━\u001b[0m\u001b[37m\u001b[0m \u001b[1m65s\u001b[0m 186ms/step - loss: 4.2473e-04 - val_loss: 4.1699e-04\n",
      "Epoch 37/50\n",
      "\u001b[1m348/348\u001b[0m \u001b[32m━━━━━━━━━━━━━━━━━━━━\u001b[0m\u001b[37m\u001b[0m \u001b[1m64s\u001b[0m 184ms/step - loss: 4.0362e-04 - val_loss: 3.6506e-04\n",
      "Epoch 38/50\n",
      "\u001b[1m348/348\u001b[0m \u001b[32m━━━━━━━━━━━━━━━━━━━━\u001b[0m\u001b[37m\u001b[0m \u001b[1m67s\u001b[0m 191ms/step - loss: 4.0345e-04 - val_loss: 3.4092e-04\n",
      "Epoch 39/50\n",
      "\u001b[1m348/348\u001b[0m \u001b[32m━━━━━━━━━━━━━━━━━━━━\u001b[0m\u001b[37m\u001b[0m \u001b[1m64s\u001b[0m 183ms/step - loss: 3.8858e-04 - val_loss: 3.6394e-04\n",
      "Epoch 40/50\n",
      "\u001b[1m348/348\u001b[0m \u001b[32m━━━━━━━━━━━━━━━━━━━━\u001b[0m\u001b[37m\u001b[0m \u001b[1m62s\u001b[0m 179ms/step - loss: 3.6917e-04 - val_loss: 3.8056e-04\n",
      "Epoch 41/50\n",
      "\u001b[1m348/348\u001b[0m \u001b[32m━━━━━━━━━━━━━━━━━━━━\u001b[0m\u001b[37m\u001b[0m \u001b[1m62s\u001b[0m 178ms/step - loss: 3.6205e-04 - val_loss: 3.5005e-04\n",
      "Epoch 42/50\n",
      "\u001b[1m348/348\u001b[0m \u001b[32m━━━━━━━━━━━━━━━━━━━━\u001b[0m\u001b[37m\u001b[0m \u001b[1m62s\u001b[0m 178ms/step - loss: 3.7779e-04 - val_loss: 3.6589e-04\n",
      "Epoch 43/50\n",
      "\u001b[1m348/348\u001b[0m \u001b[32m━━━━━━━━━━━━━━━━━━━━\u001b[0m\u001b[37m\u001b[0m \u001b[1m63s\u001b[0m 180ms/step - loss: 3.7087e-04 - val_loss: 4.3715e-04\n",
      "Epoch 44/50\n",
      "\u001b[1m348/348\u001b[0m \u001b[32m━━━━━━━━━━━━━━━━━━━━\u001b[0m\u001b[37m\u001b[0m \u001b[1m65s\u001b[0m 188ms/step - loss: 3.7843e-04 - val_loss: 3.0793e-04\n",
      "Epoch 45/50\n",
      "\u001b[1m348/348\u001b[0m \u001b[32m━━━━━━━━━━━━━━━━━━━━\u001b[0m\u001b[37m\u001b[0m \u001b[1m64s\u001b[0m 185ms/step - loss: 3.5402e-04 - val_loss: 3.3246e-04\n",
      "Epoch 46/50\n",
      "\u001b[1m348/348\u001b[0m \u001b[32m━━━━━━━━━━━━━━━━━━━━\u001b[0m\u001b[37m\u001b[0m \u001b[1m65s\u001b[0m 185ms/step - loss: 3.5986e-04 - val_loss: 3.5730e-04\n",
      "Epoch 47/50\n",
      "\u001b[1m348/348\u001b[0m \u001b[32m━━━━━━━━━━━━━━━━━━━━\u001b[0m\u001b[37m\u001b[0m \u001b[1m64s\u001b[0m 184ms/step - loss: 3.5860e-04 - val_loss: 3.4843e-04\n",
      "Epoch 48/50\n",
      "\u001b[1m348/348\u001b[0m \u001b[32m━━━━━━━━━━━━━━━━━━━━\u001b[0m\u001b[37m\u001b[0m \u001b[1m63s\u001b[0m 181ms/step - loss: 3.6634e-04 - val_loss: 3.5589e-04\n",
      "Epoch 49/50\n",
      "\u001b[1m348/348\u001b[0m \u001b[32m━━━━━━━━━━━━━━━━━━━━\u001b[0m\u001b[37m\u001b[0m \u001b[1m62s\u001b[0m 178ms/step - loss: 3.6597e-04 - val_loss: 3.5854e-04\n",
      "Epoch 50/50\n",
      "\u001b[1m348/348\u001b[0m \u001b[32m━━━━━━━━━━━━━━━━━━━━\u001b[0m\u001b[37m\u001b[0m \u001b[1m64s\u001b[0m 183ms/step - loss: 3.7732e-04 - val_loss: 3.2576e-04\n"
     ]
    },
    {
     "data": {
      "text/plain": [
       "<keras.src.callbacks.history.History at 0x3e491fc50>"
      ]
     },
     "execution_count": 22,
     "metadata": {},
     "output_type": "execute_result"
    }
   ],
   "source": [
    "### Train Model\n",
    "model.fit(np.array(x_train_values), np.array(y_train_values), epochs=50, validation_data=(np.array(x_val_values), np.array(y_val_values)))\n",
    "\n"
   ]
  },
  {
   "cell_type": "code",
   "execution_count": 23,
   "id": "7317c6c9-ec7c-4e12-a1d0-b7c22259634c",
   "metadata": {},
   "outputs": [
    {
     "name": "stdout",
     "output_type": "stream",
     "text": [
      "\u001b[1m44/44\u001b[0m \u001b[32m━━━━━━━━━━━━━━━━━━━━\u001b[0m\u001b[37m\u001b[0m \u001b[1m2s\u001b[0m 38ms/step\n"
     ]
    }
   ],
   "source": [
    "y_pred = model.predict(np.array(x_test_values))"
   ]
  },
  {
   "cell_type": "code",
   "execution_count": 24,
   "id": "b3162432-3698-4ac4-91d6-304c8b29e75f",
   "metadata": {},
   "outputs": [
    {
     "name": "stdout",
     "output_type": "stream",
     "text": [
      "[[95564.0, 0.6931620000000003], [50409.0, 0.7065509999999995], [8079158.0, 0.5101365000000005], [105025507.0, 0.5964690000000009], [12362.0, 0.6021365000000005], [94059.0, 0.4721915000000008], [44943.0, 0.4494455000000016], [99050.0, 0.5197734999999993], [88877.0, 0.49753499999999984], [135054.0, 0.6221310000000012], [36685.0, 0.6106035000000011], [71828.0, 0.6036579999999995], [81798.0, 0.6612849999999999], [7044535.0, 0.8096464999999989], [88876.0, 0.7673420000000005], [39613.0, 0.8285275000000002], [17207.0, 0.46509000000000017], [93923383.0, 0.5809160000000011], [43465.0, 0.6326330000000017], [23245045.0, 0.30435150000000066], [9705.0, 0.7856955000000017], [5709606.0, 0.7562829999999995], [24091.0, 0.6680155000000013], [57363.0, 0.4512285000000011], [96552995.0, 0.2953669999999984], [130085491.0, 0.7985155000000014], [11403.0, 0.5389919999999984], [15870.0, 0.7730370000000003], [10989329.0, 0.4081270000000004], [8646.0, 0.4455099999999984], [11928.0, 0.42783000000000176], [2299.0, 0.3747829999999994], [53047.0, 0.5373205000000016], [94676718.0, 0.4849900000000016], [82128.0, 0.4184959999999992], [35775635.0, 0.6018379999999998], [30091.0, 0.4641270000000004], [29674.0, 0.537125], [76626.0, 0.3776680000000015], [187783.0, 0.3178770000000004], [208610.0, 0.8156055000000015], [334851.0, 0.3897089999999989], [91472.0, 0.3467795000000006], [99863752.0, 0.49696700000000055], [15500040.0, 0.5555295000000006], [66510.0, 0.8068810000000012], [47150.0, 0.6148555000000014], [20672879.0, 0.5120449999999983], [18280798.0, 0.7353495000000002], [75583.0, 0.43128700000000025], [35609.0, 0.7872204999999994], [78017.0, 0.5063555000000015], [63190.0, 0.44097049999999943], [186345.0, 0.35359549999999945], [40615474.0, 0.8136290000000008], [96490400.0, 0.7438104999999996], [20748.0, 0.8038944999999985], [60578.0, 0.5865080000000016], [62058.0, 0.3717520000000004], [19191.0, 0.5860295000000005], [87036.0, 0.43820100000000095], [59042.0, 0.64125], [45849.0, 0.7695974999999998], [15778.0, 0.6941015000000007], [73665.0, 0.4107305000000015], [77391.0, 0.42546299999999976], [242450.0, 0.30856049999999957], [36265.0, 0.8045410000000011], [27613436.0, 0.5741935000000012], [262661.0, 0.5911365000000005], [57781.0, 0.6999140000000007], [9373678.0, 0.3440995000000003], [35424.0, 0.7973224999999984], [35467.0, 0.7691680000000015], [46042.0, 0.6229765000000007], [69703704.0, 0.6926620000000002], [227067.0, 0.6723515000000007], [38508.0, 0.612031500000001], [63561.0, 0.7812580000000017], [7693.0, 0.4387170000000006], [81767213.0, 0.6984140000000006], [14233571.0, 0.6809824999999983], [80831.0, 0.44635350000000107], [165494.0, 0.3379745000000003], [109026809.0, 0.37628700000000026], [120160728.0, 0.5090254999999997], [50890.0, 0.7720469999999987], [63656.0, 0.5860920000000005], [81254.0, 0.611219000000001], [93772396.0, 0.804583999999999], [71447.0, 0.7994824999999982], [76039.0, 0.44507050000000165], [95136.0, 0.8372170000000005], [50905.0, 0.41990999999999984], [29238.0, 0.786281500000001], [40065.0, 0.4347364999999991], [74102.0, 0.5804140000000007], [114808.0, 0.822826000000001], [40891717.0, 0.41450800000000165], [25576261.0, 0.4953849999999984], [1365.0, 0.45040450000000054], [28506.0, 0.43399599999999916], [8922835.0, 0.6884199999999983], [27753416.0, 0.7179959999999992], [33846439.0, 0.5649589999999989], [23389935.0, 0.5842204999999995], [56002762.0, 0.39334950000000024], [49747.0, 0.5931719999999987], [20696.0, 0.541576000000001], [27393.0, 0.6107010000000009], [129524163.0, 0.3933709999999992], [83831.0, 0.6447795000000005], [119670911.0, 0.46886699999999837], [262081.0, 0.49409950000000025], [83772004.0, 0.4992540000000008], [3680406.0, 0.6769099999999999], [70115.0, 0.8244939999999987], [56990554.0, 0.4912694999999985], [8201.0, 0.6045705000000017], [81637.0, 0.43255099999999946], [30172.0, 0.3914844999999987], [79323.0, 0.43140250000000013], [24492.0, 0.8203810000000012], [213707.0, 0.2668689999999988], [79321815.0, 0.46359549999999944], [85159.0, 0.43611699999999837], [33459.0, 0.4493810000000012], [11073587.0, 0.705344000000001], [87924.0, 0.7468865000000006], [89791.0, 0.8089079999999994], [15416.0, 0.7593064999999988], [101349530.0, 0.707826000000001], [3657.0, 0.7934490000000005], [47278.0, 0.3855625], [27807303.0, 0.5522560000000012], [32538.0, 0.5629375], [42132.0, 0.4009275000000016], [107659390.0, 0.5970254999999998], [88396.0, 0.8280859999999993], [29721.0, 0.8225954999999995], [84102.0, 0.42291800000000146], [64450.0, 0.44602750000000013], [48458925.0, 0.5690740000000005], [1114.0, 0.4630995000000003], [63239.0, 0.8113925000000017], [31739726.0, 0.34046099999999935], [132021.0, 0.718406500000001], [21405.0, 0.6599805000000015], [81002.0, 0.6432775000000002], [212815.0, 0.8167795000000005], [128089118.0, 0.3325489999999991], [6092.0, 0.4280254999999997], [6952.0, 0.49686349999999946], [62800.0, 0.4207714999999989], [23665.0, 0.5075665000000008], [59405.0, 0.49879699999999866], [259884.0, 0.5375315000000009], [148976.0, 0.42155849999999917], [59146.0, 0.7105060000000012], [68580.0, 0.7783044999999984], [13089.0, 0.3319294999999984], [104500417.0, 0.7189199999999982], [302689.0, 0.6861074999999982], [110923057.0, 0.6958810000000012], [108554.0, 0.4681169999999984], [20367.0, 0.38672049999999947], [53009.0, 0.6351895000000004], [24503.0, 0.46789849999999933], [1168.0, 0.8029259999999995], [41589.0, 0.6191719999999986], [24540253.0, 0.5833280000000013], [120356.0, 0.4678145000000004], [82370.0, 0.45770699999999853], [131814.0, 0.5963709999999992], [17515.0, 0.8245839999999989], [3037.0, 0.5104435000000013], [246789.0, 0.5691935000000012], [92100.0, 0.6895430000000015], [65560.0, 0.717236499999999], [47966.0, 0.8239334999999992], [53556.0, 0.8469219999999986], [1366732.0, 0.7189160000000011], [7596.0, 0.39803700000000025], [45351.0, 0.5538339999999989], [130102752.0, 0.7549805000000015], [33176.0, 0.7548359999999993], [15510.0, 0.48134000000000016], [85345.0, 0.3193790000000008], [63608.0, 0.6067714999999989], [23835.0, 0.7430544999999984], [82888.0, 0.7943709999999992], [123045682.0, 0.4656169999999984], [60415.0, 0.7656189999999988], [35049.0, 0.7983205000000017], [77559.0, 0.6575995000000002], [99660133.0, 0.2934375], [53267.0, 0.8048964999999989], [39076.0, 0.5088420000000006], [37414787.0, 0.6972069999999985], [43595.0, 0.6056134999999995], [60685.0, 0.6502129999999997], [87240115.0, 0.5329745000000002], [2056114.0, 0.6270900000000001], [32361.0, 0.6320859999999994], [48118.0, 0.27245100000000094], [62892.0, 0.41596700000000053], [47004656.0, 0.5430349999999998], [125113440.0, 0.6328865000000006], [58527015.0, 0.44117599999999946], [80961519.0, 0.4105020000000004], [45265.0, 0.5111990000000005], [31425.0, 0.5353790000000008], [47354.0, 0.7648044999999983], [26047.0, 0.5286504999999997], [49489.0, 0.41029699999999864], [71451908.0, 0.546326000000001], [85968.0, 0.46586899999999876], [328728.0, 0.5780080000000016], [138947.0, 0.546353500000001], [9974082.0, 0.47311349999999947], [68217.0, 0.8341620000000003], [48575.0, 0.41310749999999824], [37706.0, 0.45559200000000055], [20280451.0, 0.7210920000000005], [80251.0, 0.5855135000000009], [16161.0, 0.4588634999999995], [94198.0, 0.42673249999999824], [149129.0, 0.7041525000000002], [6391.0, 0.43141999999999825], [45985.0, 0.7108849999999984], [84251.0, 0.46960749999999823], [104691116.0, 0.7135040000000008], [3645.0, 0.3935430000000015], [120098658.0, 0.7393594999999986], [41256.0, 0.7104455000000016], [283902.0, 0.7912890000000007], [21496.0, 0.7843319999999985], [72782.0, 0.7455234999999993], [22283858.0, 0.4431680000000015], [27445310.0, 0.5110859999999994], [57604.0, 0.6892324999999982], [66847793.0, 0.7775194999999985], [56861374.0, 0.7024745000000002], [72013.0, 0.6009844999999987], [118211.0, 0.43452149999999895], [55223.0, 0.4421310000000012], [87963.0, 0.5189375], [2229616.0, 0.5063044999999984], [19746.0, 0.4605], [12004.0, 0.6781484999999994], [12058.0, 0.8374435000000012], [14693.0, 0.6161365000000005], [54590.0, 0.7990349999999998], [90043.0, 0.3815020000000004], [3193.0, 0.7474455000000017], [7930383.0, 0.6347344999999986], [63637101.0, 0.7125859999999993], [5794.0, 0.7505665000000008], [64293.0, 0.6274765000000007], [78419.0, 0.46577349999999934], [39094.0, 0.6068009999999995], [82614.0, 0.40090450000000055], [114431218.0, 0.3468260000000009], [64877.0, 0.7668319999999985], [63047.0, 0.6407170000000005], [91917.0, 0.27376350000000094], [299781.0, 0.554611499999999], [48243408.0, 0.7772285000000011], [84023.0, 0.8077010000000009], [56011.0, 0.565763500000001], [53192166.0, 0.5635564999999988], [180290.0, 0.7542870000000003], [78957.0, 0.7136035000000011], [10465511.0, 0.31102549999999973], [134824.0, 0.7079785000000011], [109863091.0, 0.5932030000000014], [84194.0, 0.7230625], [64574.0, 0.8211660000000011], [48970.0, 0.2899900000000016], [171.0, 0.6588515000000007], [4469.0, 0.3290625], [63314.0, 0.3467400000000016], [18271554.0, 0.8020879999999997], [92933.0, 0.8102615000000005], [101595704.0, 0.32016999999999823], [23541.0, 0.4834609999999993], [181919.0, 0.4455645000000004], [29511.0, 0.2892599999999984], [69597.0, 0.7768064999999987], [86068216.0, 0.5009884999999995], [4193236.0, 0.3488165000000008], [36182575.0, 0.48136149999999905], [94540.0, 0.5776990000000005], [38742819.0, 0.8257870000000003], [42352.0, 0.3278964999999989], [177808.0, 0.49010749999999825], [68399.0, 0.7949199999999983], [46978.0, 0.7932129999999997], [63287280.0, 0.6102089999999989], [105164408.0, 0.7619550000000017], [35427.0, 0.7397694999999985], [152453.0, 0.6921134999999995], [82295.0, 0.38528900000000066], [22261.0, 0.5148865000000005], [42198183.0, 0.4766680000000015], [27073.0, 0.4325584999999992], [106946255.0, 0.45878499999999983], [40644.0, 0.38384400000000096], [60398.0, 0.4999474999999984], [24893.0, 0.6021290000000008], [19038.0, 0.5813400000000002], [83117.0, 0.5837615000000005], [62687.0, 0.618344000000001], [56869570.0, 0.7650275000000002], [73236.0, 0.6076055000000015], [27683.0, 0.47109400000000096], [33613.0, 0.46379499999999824], [97388897.0, 0.5564025000000001], [25160.0, 0.5922324999999983], [24474.0, 0.8005584999999992], [52741.0, 0.5312615000000005], [18058.0, 0.6713905000000013], [34102.0, 0.6174474999999984], [127812263.0, 0.5231640000000006], [25474.0, 0.27053299999999947], [77402.0, 0.49694550000000165], [53703.0, 0.5678165000000008], [7172.0, 0.4883849999999984], [129687910.0, 0.47397450000000024], [35059.0, 0.7589704999999994], [209987.0, 0.6044294999999984], [41526429.0, 0.8233300000000018], [44302.0, 0.38185749999999824], [78115.0, 0.6075040000000008], [36567.0, 0.6788359999999993], [3077.0, 0.7178454999999995], [42774.0, 0.5975234999999993], [79235.0, 0.5849765000000007], [128391675.0, 0.4175544999999984], [84461.0, 0.36142949999999835], [38909.0, 0.8058280000000013], [11680196.0, 0.6707734999999994], [281632.0, 0.339875], [1522.0, 0.7620800000000018], [9408.0, 0.586021499999999], [29045.0, 0.4873849999999984], [55192.0, 0.7580525000000016], [93781.0, 0.43722049999999946], [6022.0, 0.38265999999999983], [7809.0, 0.8136464999999989], [3029.0, 0.4380760000000009], [16470.0, 0.6337324999999983], [26153.0, 0.7837364999999991], [36311.0, 0.5133964999999989], [112833910.0, 0.49653499999999984], [55629.0, 0.7220155000000014], [89096589.0, 0.3057714999999989], [14041.0, 0.47497249999999985], [21515.0, 0.6383574999999982], [102864.0, 0.5517479999999996], [74285001.0, 0.6053474999999998], [28301.0, 0.45876750000000177], [29167.0, 0.7728400000000002], [68270337.0, 0.7481680000000015], [22617.0, 0.41627549999999974], [117492912.0, 0.6924670000000005], [114975586.0, 0.5605115000000005], [46741316.0, 0.6049959999999992], [60163.0, 0.46383799999999975], [77658.0, 0.6147580000000016], [10881.0, 0.6008885000000009], [23268.0, 0.4326134999999995], [9492350.0, 0.7596310000000013], [37291.0, 0.8369395000000004], [59051.0, 0.4276310000000012], [238484.0, 0.8141699999999983], [50261.0, 0.6117384999999995], [83511.0, 0.5817870000000003], [51598.0, 0.722125], [14053.0, 0.4117694999999985], [185785.0, 0.33947450000000023], [238011.0, 0.3561794999999984], [19219.0, 0.4408224999999984], [17931.0, 0.5459354999999996], [15359.0, 0.35333799999999976], [75488.0, 0.45233000000000173], [94757.0, 0.6187675000000017], [89583.0, 0.509125], [39175.0, 0.7362285000000011], [3925.0, 0.7203984999999993], [57090966.0, 0.7311464999999989], [28102.0, 0.46783799999999975], [49083.0, 0.6037384999999995], [285029.0, 0.2968555000000015], [31846.0, 0.47911699999999835], [11018.0, 0.4136209999999992], [107568.0, 0.6172204999999994], [57856.0, 0.41353299999999943], [107634822.0, 0.4852520000000004], [14126.0, 0.6648770000000004], [18798.0, 0.7708535000000011], [48830.0, 0.7735430000000015], [90281.0, 0.7982754999999997], [78767.0, 0.8057870000000003], [52474.0, 0.5169884999999995], [78022.0, 0.795236499999999], [40759.0, 0.40239250000000176], [11708.0, 0.7837615000000006], [114510562.0, 0.4157694999999985], [86579.0, 0.5845509999999995], [10071.0, 0.6289919999999983], [35878805.0, 0.6434550000000018], [55921392.0, 0.5933614999999991], [55196.0, 0.38713850000000094], [63430.0, 0.5832479999999995], [119911135.0, 0.5816814999999987], [82942.0, 0.47797450000000025], [90387.0, 0.6500115000000005], [30719257.0, 0.5378280000000013], [50951.0, 0.8064375], [30948935.0, 0.48215049999999976], [60023.0, 0.7433400000000001], [18016844.0, 0.7197615000000005], [30474.0, 0.7959490000000006], [33511.0, 0.44044550000000166], [81737816.0, 0.7069530000000014], [45506144.0, 0.5578849999999984], [20829613.0, 0.39994150000000084], [47882.0, 0.8219589999999989], [116304152.0, 0.7357419999999983], [3008.0, 0.38661899999999877], [96049.0, 0.466531500000001], [31530.0, 0.7113454999999994], [60456.0, 0.8019415000000009], [3841.0, 0.8041854999999996], [88403.0, 0.7979180000000015], [79341.0, 0.607666000000001], [29060.0, 0.44557800000000136], [62696.0, 0.7600900000000002], [16515.0, 0.34480099999999947], [36348779.0, 0.6295234999999993], [89957.0, 0.6991955000000016], [60922.0, 0.743736499999999], [19599.0, 0.7949160000000011], [88990907.0, 0.38292399999999904], [73778.0, 0.3999375], [12820.0, 0.4561990000000005], [118966518.0, 0.40315049999999975], [58391.0, 0.804166000000001], [94229.0, 0.5999510000000009], [19893.0, 0.4668025000000016], [23486.0, 0.8055469999999987], [8625.0, 0.4091484999999993], [40251.0, 0.3445099999999984], [79989.0, 0.3319395000000004], [18453509.0, 0.5667520000000004], [28492.0, 0.606646499999999], [76516.0, 0.4233650000000016], [65428.0, 0.42601150000000054], [3410.0, 0.6157694999999985], [18329775.0, 0.36614449999999854], [68973156.0, 0.383406500000001], [75874.0, 0.39893349999999916], [9752686.0, 0.7617150000000001], [81476.0, 0.7328810000000012], [82777276.0, 0.4660099999999984], [49273.0, 0.2934510000000009], [2228.0, 0.8004569999999985], [29252.0, 0.3740194999999985], [32673.0, 0.45259000000000016], [95158.0, 0.5262615000000005], [18887.0, 0.43921099999999935], [65211.0, 0.7777384999999994], [95118.0, 0.80675], [79850.0, 0.5704354999999995], [80533.0, 0.4443185000000012], [42954.0, 0.4596990000000005], [43987926.0, 0.6909455000000017], [9316.0, 0.5996680000000015], [92448.0, 0.8068555000000015], [13070.0, 0.5995254999999997], [55832.0, 0.6983420000000006], [87608.0, 0.6706640000000007], [77468.0, 0.443906500000001], [82157690.0, 0.43403499999999984], [18786.0, 0.6948319999999986], [54822.0, 0.6385060000000012], [41626.0, 0.5740449999999983], [91524.0, 0.5811425000000018], [95854.0, 0.45639649999999893], [16802.0, 0.5914045000000006], [44242.0, 0.701791000000001], [40882.0, 0.6092204999999995], [38058.0, 0.5353125], [16537.0, 0.40775400000000084], [25339.0, 0.7559704999999994], [306349.0, 0.826469000000001], [60941.0, 0.7878984999999993], [43608.0, 0.7791209999999992], [83623.0, 0.6657324999999983], [53288036.0, 0.40904699999999866], [36859.0, 0.36684200000000056], [110720057.0, 0.7519375], [49536340.0, 0.6118145000000004], [4653.0, 0.5464939999999988], [53310.0, 0.5310295000000006], [79494.0, 0.43501350000000094], [83603.0, 0.7625], [26412306.0, 0.5663650000000016], [115336.0, 0.5056579999999995], [114685474.0, 0.3238044999999984], [50836.0, 0.7927170000000006], [64292.0, 0.4531169999999984], [91041.0, 0.7630175000000018], [25403895.0, 0.4281504999999997], [34468.0, 0.8100430000000015], [85310.0, 0.3535544999999984], [106685425.0, 0.6695329999999995], [1933.0, 0.26621500000000015], [61130.0, 0.44244550000000166], [25084785.0, 0.7581854999999996], [76690.0, 0.6797655000000014], [95346.0, 0.5009864999999991], [57741.0, 0.47590799999999944], [43390.0, 0.6054670000000005], [72918.0, 0.8044844999999987], [32758.0, 0.40977349999999935], [8962.0, 0.44414250000000177], [46592.0, 0.45060949999999866], [244805.0, 0.5742635000000009], [14705653.0, 0.8078634999999995], [52757.0, 0.5814294999999984], [79906724.0, 0.3766955000000016], [84991.0, 0.40299199999999835], [11773.0, 0.44804300000000147], [55383.0, 0.7188400000000001], [24853.0, 0.36210749999999825], [413.0, 0.5903025000000016], [167417.0, 0.6369609999999993], [32403528.0, 0.33777950000000057], [63487.0, 0.4027694999999985], [77018.0, 0.2948925000000017], [69357.0, 0.45189449999999853], [78712.0, 0.797236499999999], [10321.0, 0.7960349999999998], [25595594.0, 0.48340650000000096], [79600.0, 0.7864294999999983], [32715.0, 0.8204140000000006], [19500.0, 0.8135214999999989], [35593703.0, 0.32189449999999853], [41755.0, 0.621271499999999], [108957216.0, 0.7683810000000012], [119999488.0, 0.7525645000000004], [11652.0, 0.7585954999999994], [37323.0, 0.6393594999999986], [25008.0, 0.3803400000000001], [53706.0, 0.3288770000000004], [17568.0, 0.7580469999999987], [1467.0, 0.6799099999999999], [41876.0, 0.4440525000000016], [55454667.0, 0.690125], [63043.0, 0.6838535000000011], [9248706.0, 0.6041875], [56875.0, 0.46110150000000066], [52533.0, 0.6237560000000012], [94102.0, 0.6050604999999996], [42043.0, 0.5504939999999988], [51706.0, 0.6000080000000017], [117425583.0, 0.3215115000000005], [61756.0, 0.799844000000001], [79849.0, 0.5657245000000003], [63052.0, 0.8208905000000013], [18098.0, 0.42072650000000067], [58006418.0, 0.7271794999999984], [64091912.0, 0.49616200000000027], [57068751.0, 0.7412694999999985], [125176284.0, 0.7759745000000002], [295725.0, 0.4246015000000007], [6932.0, 0.42956049999999957], [35898790.0, 0.8052540000000008], [84098.0, 0.7082109999999994], [129175387.0, 0.7920135000000009], [59047.0, 0.5236425000000018], [36336.0, 0.5735685000000013], [325290.0, 0.3095060000000012], [92769684.0, 0.39070500000000175], [43434.0, 0.43682600000000094], [81536.0, 0.5114805000000014], [3573621.0, 0.7487599999999984], [89682257.0, 0.6267190000000009], [49833.0, 0.7632245000000003], [103310781.0, 0.6115900000000002], [37913.0, 0.43026949999999853], [39376.0, 0.7866640000000007], [28642.0, 0.5780760000000009], [17769.0, 0.837969000000001], [35748453.0, 0.33866999999999825], [96242023.0, 0.7945665000000008], [200418.0, 0.7736330000000017], [26632.0, 0.4631444999999985], [90562518.0, 0.7978044999999984], [161591.0, 0.7065060000000012], [56927863.0, 0.3120390000000007], [89055.0, 0.8079275000000016], [65329.0, 0.4588224999999984], [58963376.0, 0.40947049999999946], [93649.0, 0.5868240000000006], [91642065.0, 0.44253700000000024], [80740.0, 0.828531500000001], [65775.0, 0.8207969999999987], [38094181.0, 0.8288400000000001], [77108.0, 0.5877305000000015], [49345.0, 0.5642129999999997], [145990.0, 0.5813185000000012], [74312.0, 0.8092754999999997], [95349.0, 0.45554699999999865], [11150.0, 0.7479629999999997], [120846104.0, 0.6504045000000006], [81232295.0, 0.5706504999999997], [58174.0, 0.7436545000000006], [12439100.0, 0.7207754999999998], [13169.0, 0.562833999999999], [42282576.0, 0.4276935000000012], [77746327.0, 0.723156500000001], [130755807.0, 0.5284045000000005], [95600283.0, 0.4782344999999987], [95565.0, 0.40527349999999934], [96914178.0, 0.5954690000000009], [47601.0, 0.5605625], [31771.0, 0.6227694999999985], [46354.0, 0.3821814999999988], [93170.0, 0.5693495000000003], [62134.0, 0.749478500000001], [86306.0, 0.6085760000000009], [15368.0, 0.7459670000000006], [78843.0, 0.4141775000000016], [86478.0, 0.5783280000000013], [21386867.0, 0.544844000000001], [186835.0, 0.5723224999999984], [3176.0, 0.7211229999999996], [83462.0, 0.6533165000000009], [84661.0, 0.7948205000000016], [28815.0, 0.634], [31913.0, 0.38952349999999936], [86219.0, 0.7764569999999985], [21157.0, 0.5837010000000009], [41534.0, 0.4023145000000004], [3457.0, 0.6718359999999993], [43194.0, 0.41677349999999935], [87101.0, 0.4517655000000013], [72943445.0, 0.634969000000001], [27501.0, 0.767173999999999], [55123.0, 0.7880449999999982], [12672.0, 0.37230649999999876], [90814.0, 0.4002969999999987], [310113.0, 0.6681640000000006], [83418712.0, 0.39814250000000173], [281110.0, 0.6050390000000007], [18366.0, 0.4427635000000009], [92764.0, 0.2930724999999984], [65056.0, 0.772701000000001], [52740863.0, 0.8053574999999983], [36926.0, 0.5962129999999998], [90300.0, 0.564603500000001], [30014.0, 0.8046169999999984], [36325.0, 0.6806094999999986], [20342164.0, 0.6583064999999988], [48179.0, 0.5849589999999989], [301956.0, 0.7419275000000016], [117065327.0, 0.5942384999999994], [5119501.0, 0.4087989999999991], [34746698.0, 0.7238224999999984], [103612755.0, 0.30428499999999986], [60350.0, 0.47126350000000095], [41515.0, 0.7565724999999984], [76843.0, 0.6395974999999998], [22907.0, 0.43445500000000176], [86483559.0, 0.6758865000000005], [46623.0, 0.5427815000000009], [79911.0, 0.49839050000000135], [63662.0, 0.5838379999999997], [30576273.0, 0.6187190000000009], [14159.0, 0.5956895000000004], [15901.0, 0.6260645000000004], [8386.0, 0.5863964999999989], [79309.0, 0.7738650000000016], [89902.0, 0.42346700000000054], [1879121.0, 0.45352549999999975], [233267.0, 0.7930780000000014], [11204.0, 0.3493905000000013], [7775.0, 0.7830349999999998], [76804558.0, 0.3364354999999996], [86764.0, 0.6107930000000015], [13424.0, 0.5683339999999989], [166186.0, 0.6185135000000009], [61056.0, 0.7148634999999994], [64851.0, 0.43197450000000026], [18561.0, 0.6931094999999987], [111702099.0, 0.32759549999999943], [18277.0, 0.5873260000000009], [45129.0, 0.7433044999999984], [14960.0, 0.5871405000000013], [9302.0, 0.4244120000000003], [57245.0, 0.32115049999999973], [56513.0, 0.8240254999999997], [81419.0, 0.4321484999999993], [27825.0, 0.4310645000000004], [44393.0, 0.4319785000000011], [3745099.0, 0.650173999999999], [325145.0, 0.41323849999999945], [108141.0, 0.8326270000000005], [79448.0, 0.8178964999999989], [79295.0, 0.31854300000000146], [129913235.0, 0.3896834999999992], [80434.0, 0.4468594999999987], [31238.0, 0.7005584999999992], [2265.0, 0.5948185000000012], [72687467.0, 0.40950800000000165], [27034.0, 0.39636899999999875], [78388.0, 0.5304609999999993], [2860.0, 0.5601015000000007], [60093.0, 0.6180275000000002], [48572207.0, 0.42815450000000055], [43687.0, 0.30853150000000096], [67853.0, 0.5575214999999989], [90921.0, 0.7679650000000001], [45932.0, 0.6016599999999999], [130414189.0, 0.7971484999999994], [35341109.0, 0.43309749999999986], [3585.0, 0.48491800000000146], [329089.0, 0.6130584999999992], [32023.0, 0.42066400000000065], [111446272.0, 0.41056650000000083], [7060.0, 0.8391895000000004], [21900.0, 0.7298865000000005], [94241.0, 0.8170760000000009], [6390.0, 0.5902949999999982], [102315326.0, 0.5763849999999984], [10347.0, 0.44465450000000056], [84639.0, 0.626291000000001], [53207.0, 0.29951350000000093], [44537206.0, 0.8235430000000015], [53647.0, 0.5871330000000017], [33714.0, 0.7419455000000016], [53897428.0, 0.7815234999999994], [94067.0, 0.40539250000000177], [13035.0, 0.6251150000000016], [95968165.0, 0.5637815000000009], [68637.0, 0.6987245000000003], [72304.0, 0.2853145000000004], [127942.0, 0.5313689999999988], [56474.0, 0.7396895000000004], [47937.0, 0.46734000000000014], [303488.0, 0.45777349999999933], [127437349.0, 0.8252560000000012], [28125.0, 0.7105995000000003], [27629.0, 0.37985350000000107], [3209.0, 0.6972419999999984], [80030.0, 0.43405099999999947], [62433.0, 0.8151775000000016], [55978.0, 0.5171330000000016], [112717.0, 0.36909000000000014], [67764.0, 0.6951504999999998], [41317.0, 0.6195740000000005], [87085.0, 0.7666739999999991], [60448244.0, 0.7097010000000009], [38574785.0, 0.5675469999999987], [92809.0, 0.42341600000000107], [127708254.0, 0.630728500000001], [41690.0, 0.8117150000000002], [93374.0, 0.7995329999999995], [23810.0, 0.42171900000000095], [42377.0, 0.6732030000000013], [47297.0, 0.6668495000000003], [43240.0, 0.7890135000000009], [24150823.0, 0.5279765000000006], [93141.0, 0.7707675000000017], [72068.0, 0.8116015000000006], [53986.0, 0.7600370000000003], [56100.0, 0.6316365000000005], [43933894.0, 0.7939650000000001], [66918.0, 0.7853379999999998], [55567.0, 0.6875430000000015], [317575.0, 0.7554959999999992], [76430.0, 0.4470080000000016], [30432.0, 0.43395500000000176], [54940.0, 0.6343379999999997], [124540688.0, 0.7042849999999998], [12186.0, 0.3748224999999984], [28823679.0, 0.7967170000000006], [92221.0, 0.4445080000000016], [10244.0, 0.6044455000000016], [111722655.0, 0.8175920000000005], [133234.0, 0.43046900000000093], [11835.0, 0.5068420000000006], [2067324.0, 0.7395974999999999], [29865365.0, 0.40813100000000124], [97850.0, 0.5684609999999993], [37576.0, 0.40409549999999944], [87826.0, 0.5227479999999995], [241329.0, 0.42437900000000084], [59463.0, 0.7325819999999985], [82409.0, 0.31377549999999976], [86123.0, 0.7808495000000003], [35829.0, 0.5116525000000002], [30812.0, 0.8095920000000005], [47170.0, 0.6050859999999993], [24311.0, 0.5789004999999997], [80540.0, 0.8059455000000016], [962.0, 0.31207800000000135], [51299.0, 0.7145275000000001], [94761.0, 0.4818925000000017], [56347970.0, 0.7068044999999984], [35882729.0, 0.6557400000000017], [11039015.0, 0.29648249999999826], [230227.0, 0.31693149999999876], [49523.0, 0.5202364999999991], [95481.0, 0.46406450000000043], [63775.0, 0.8099239999999991], [4677.0, 0.4053064999999988], [46897.0, 0.7640625], [28005.0, 0.6091660000000011], [54890146.0, 0.34361149999999907], [40846.0, 0.43882600000000094], [302887.0, 0.5285390000000006], [83676.0, 0.4404939999999988], [118053364.0, 0.4500410000000011], [15900.0, 0.8191854999999996], [70977.0, 0.5673359999999993], [58417.0, 0.6642910000000011], [84422034.0, 0.416625], [39091.0, 0.43713850000000093], [39414345.0, 0.49763650000000054], [72040403.0, 0.3830194999999985], [99862.0, 0.4333594999999987], [32738.0, 0.40139250000000176], [17340877.0, 0.34142199999999867], [77853.0, 0.6188650000000016], [100164081.0, 0.8741015000000006], [80398.0, 0.8100194999999986], [12289.0, 0.8060859999999993], [312228.0, 0.31400600000000123], [39048.0, 0.6969140000000007], [25736324.0, 0.7916169999999983], [119240467.0, 0.37513850000000093], [60550.0, 0.6128614999999991], [84840.0, 0.8170329999999995], [49422.0, 0.619638500000001], [45461118.0, 0.3677439999999988], [147571.0, 0.35503299999999943], [64134.0, 0.40310150000000067], [42623.0, 0.740896499999999], [88938.0, 0.45734749999999985], [58582922.0, 0.7370604999999996], [8492.0, 0.4493224999999984], [59621.0, 0.8048319999999985], [41261.0, 0.5907890000000007], [32410.0, 0.6531055000000014], [55569.0, 0.7980954999999994], [109417439.0, 0.6781310000000013], [38929.0, 0.6193614999999991], [67955260.0, 0.48635150000000066], [18385881.0, 0.27772249999999987], [443.0, 0.30078499999999986], [40456.0, 0.37882800000000133], [310925.0, 0.6286310000000013], [101679595.0, 0.7408165000000008], [26115.0, 0.44871700000000053], [87586.0, 0.5493084999999992], [27306.0, 0.8295410000000011], [81682.0, 0.5555194999999985], [20283060.0, 0.7174919999999984], [81889909.0, 0.7007580000000017], [84182.0, 0.8115175000000018], [74340.0, 0.6551015000000007], [10831.0, 0.6481990000000005], [62678.0, 0.6192204999999994], [35541.0, 0.597228500000001], [85661.0, 0.3132170000000006], [72518.0, 0.800138500000001], [112060173.0, 0.2903240000000005], [57978.0, 0.7593474999999998], [54714301.0, 0.3687910000000011], [129729789.0, 0.5766134999999994], [70602.0, 0.31547650000000066], [64444.0, 0.7539140000000006], [18645.0, 0.6901349999999984], [18338.0, 0.5901114999999991], [56691.0, 0.708041000000001], [40669843.0, 0.41048249999999825], [44850.0, 0.5247775000000001], [46074.0, 0.30164050000000137], [72009300.0, 0.636728500000001], [72281.0, 0.2782305000000015], [37871.0, 0.7740564999999988], [26326935.0, 0.5542580000000016], [8271.0, 0.47072650000000066], [27473.0, 0.41902750000000016], [68717.0, 0.5549079999999994], [105640435.0, 0.570625], [60394.0, 0.5596834999999992], [87418247.0, 0.8075974999999999], [107560029.0, 0.41403700000000027], [26070.0, 0.4466990000000005], [41266.0, 0.7316599999999999], [57686.0, 0.45121500000000014], [63673.0, 0.5984354999999996], [124781998.0, 0.8091854999999996], [90519.0, 0.37292949999999836], [25936.0, 0.4311150000000016], [71853.0, 0.37973050000000147], [87995.0, 0.6217655000000013], [125838400.0, 0.2989589999999989], [39349.0, 0.605076000000001], [55312.0, 0.2650760000000009], [94186.0, 0.8054375], [23730608.0, 0.4155234999999993], [32922.0, 0.7580370000000003], [23521262.0, 0.6054275000000016], [94899.0, 0.7822285000000011], [50089.0, 0.5266330000000017], [51534.0, 0.38751750000000174], [67241270.0, 0.8371739999999991], [60731.0, 0.44808199999999854], [35901998.0, 0.4485040000000008], [73108.0, 0.7944530000000013], [89236.0, 0.6366974999999984], [84392.0, 0.5909939999999988], [82516.0, 0.43260749999999826], [117995963.0, 0.8114939999999988], [31640.0, 0.5238025000000016], [126270180.0, 0.3996169999999984], [245571.0, 0.4526229999999996], [61505.0, 0.6447050000000017], [42581.0, 0.3140525000000016], [40654.0, 0.5739510000000009], [37014349.0, 0.47092599999999946], [2300.0, 0.29146500000000014], [50700718.0, 0.35423649999999907], [42349.0, 0.6411935000000012], [55236.0, 0.5489704999999995], [225529.0, 0.39723449999999866], [36512.0, 0.8069959999999992], [16461833.0, 0.8157540000000009], [17161.0, 0.7906955000000017], [48452.0, 0.6449354999999996], [53296.0, 0.7954004999999997], [73534.0, 0.4215665000000008], [43537.0, 0.4341875], [73497.0, 0.4539259999999995], [48535675.0, 0.34813300000000164], [337.0, 0.7166680000000015], [59390.0, 0.6488515000000007], [64500739.0, 0.8331074999999982], [10777360.0, 0.7518300000000018], [252136.0, 0.37463850000000093], [67175951.0, 0.530958999999999], [65704.0, 0.8251405000000014], [53935453.0, 0.26278299999999943], [27386.0, 0.6272615000000005], [127227730.0, 0.38974399999999876], [224009.0, 0.6966915000000008], [211842.0, 0.3361074999999982], [84871.0, 0.4390665000000008], [57217.0, 0.4100135000000009], [6311869.0, 0.5528185000000012], [27653.0, 0.7830155000000013], [1567.0, 0.4718224999999984], [113405851.0, 0.3335234999999993], [34099.0, 0.5764294999999984], [4325.0, 0.8083359999999993], [20488.0, 0.6124979999999995], [49428.0, 0.6531955000000016], [14506.0, 0.8064724999999998], [79875.0, 0.519708999999999], [107448991.0, 0.5268044999999983], [34950.0, 0.7327890000000007], [4645.0, 0.7636599999999999], [90024.0, 0.5708574999999982], [19964.0, 0.44584200000000057], [29911.0, 0.6275060000000012], [51009.0, 0.7472170000000006], [78176.0, 0.5680194999999986], [59155581.0, 0.6197459999999991], [89400.0, 0.4937400000000016], [30566.0, 0.432375], [18952.0, 0.4331680000000015], [47137.0, 0.7512344999999987], [85490.0, 0.8010175000000017], [86874.0, 0.7320544999999984], [76175.0, 0.44718549999999957], [75269.0, 0.601625], [99780766.0, 0.6205879999999997], [96226194.0, 0.7789045000000006], [72186.0, 0.7708830000000017], [35020005.0, 0.6547204999999995], [194350.0, 0.7837224999999999], [14603353.0, 0.7923984999999993], [75582.0, 0.31102349999999934], [12548.0, 0.7638790000000009], [90398.0, 0.6935449999999983], [8702.0, 0.7646150000000016], [85508.0, 0.8033165000000008], [7990.0, 0.7506504999999998], [12301.0, 0.5897224999999998], [114933870.0, 0.5286015000000007], [13415.0, 0.38501350000000095], [48429.0, 0.45944900000000055], [57076.0, 0.6239919999999983], [5626288.0, 0.6308145000000004], [30241.0, 0.6377795000000005], [66948.0, 0.8085329999999995], [41574314.0, 0.49134000000000017], [117767404.0, 0.6618830000000017], [26181.0, 0.4477069999999985], [108733170.0, 0.5199120000000003], [275243.0, 0.3016310000000012], [301819.0, 0.6194099999999999], [15122.0, 0.5958849999999984], [61912.0, 0.647469000000001], [86906.0, 0.7196015000000007], [34015.0, 0.5978240000000006], [17984784.0, 0.47921099999999933], [49805.0, 0.39973249999999827], [48533.0, 0.4274334999999992], [50935885.0, 0.5615780000000014], [44465.0, 0.5933634999999995], [73281.0, 0.4582969999999987], [1557442.0, 0.5318535000000011], [8717.0, 0.4300665000000008], [79562.0, 0.7748709999999992], [40961581.0, 0.5766015000000007], [287028.0, 0.8133339999999989], [4132.0, 0.3067150000000001], [49038.0, 0.8106055000000015], [11007636.0, 0.3911525000000001], [35495.0, 0.5981739999999991], [42912.0, 0.7222479999999996], [75390.0, 0.7502829999999995], [88723725.0, 0.7501504999999997], [62906.0, 0.46667949999999836], [90965.0, 0.4711759999999995], [56125086.0, 0.600219000000001], [32744.0, 0.4296270000000004], [39198.0, 0.610853500000001], [18203964.0, 0.6472129999999997], [90845.0, 0.576041000000001], [79169.0, 0.6372890000000007], [61012.0, 0.7848964999999989], [37815.0, 0.7556974999999984], [66335.0, 0.43315450000000055], [87384287.0, 0.7185135000000009], [215463.0, 0.40131850000000124], [108794725.0, 0.5669140000000007], [74646668.0, 0.7263535000000011], [99179619.0, 0.35700200000000043], [69034.0, 0.4930020000000004], [62487.0, 0.7571719999999986], [49937.0, 0.47290650000000095], [73851761.0, 0.4003770000000004], [107201222.0, 0.39439050000000136], [46835.0, 0.7677989999999991], [979.0, 0.5247930000000015], [52088.0, 0.5299395000000005], [3286.0, 0.4563420000000006], [29407.0, 0.7903849999999984], [75678.0, 0.4615020000000004], [49209.0, 0.8313454999999994], [15148.0, 0.787326000000001], [126347345.0, 0.6475020000000004], [84366.0, 0.7824939999999988], [27694.0, 0.5487829999999995], [4720.0, 0.7812754999999998], [79827.0, 0.42808000000000174], [76005.0, 0.6929375], [27010.0, 0.6058300000000018], [60613.0, 0.6354589999999989], [50875482.0, 0.3862635000000009], [220893.0, 0.5660349999999998], [143066.0, 0.5664354999999996], [81851.0, 0.4715544999999984], [49311602.0, 0.40757800000000133], [16093.0, 0.4000135000000009], [30327.0, 0.616111499999999], [90651.0, 0.4290564999999988], [65842.0, 0.38188100000000125], [311895.0, 0.5302560000000012], [56381693.0, 0.7493400000000001], [37113366.0, 0.7409120000000002], [51897185.0, 0.7891990000000005], [25095.0, 0.5859045000000006], [67915.0, 0.5712870000000002], [18172.0, 0.5134160000000011], [68381.0, 0.48985949999999867], [73392.0, 0.4163555000000015], [72245.0, 0.4620685000000012], [73901.0, 0.603375], [61352.0, 0.3932204999999995], [122756636.0, 0.5713614999999991], [57190.0, 0.8121270000000004], [45022.0, 0.8239354999999996], [78934.0, 0.5703495000000003], [8094.0, 0.5350839999999989], [67962803.0, 0.5542400000000016], [95911.0, 0.5891775000000016], [11121.0, 0.8281074999999982], [50671.0, 0.8118555000000015], [24745.0, 0.5690839999999989], [1265.0, 0.4719670000000006], [117821621.0, 0.3564474999999984], [82942911.0, 0.30719150000000084], [38924.0, 0.8335564999999988], [21407843.0, 0.5847949999999983], [62013.0, 0.46328299999999945], [1067.0, 0.7600839999999989], [21330509.0, 0.7229919999999984], [57018.0, 0.822763500000001], [56895.0, 0.47355849999999916], [75952.0, 0.7909259999999995], [248648.0, 0.3214334999999992], [22859.0, 0.4477384999999995], [49361.0, 0.7677419999999984], [96950346.0, 0.7216565000000009], [103787063.0, 0.39073449999999865], [19977.0, 0.4273009999999995], [25067.0, 0.30814649999999894], [6567.0, 0.41287900000000083], [94325716.0, 0.7187969999999987], [58504.0, 0.4903650000000016], [13078.0, 0.7191385000000009], [40988.0, 0.6772849999999998], [77469.0, 0.42017199999999866], [73780016.0, 0.2808339999999989], [35125.0, 0.4569844999999987], [55104.0, 0.6160214999999989], [70100.0, 0.46545300000000134], [37304.0, 0.5942265000000007], [201908.0, 0.4100685000000012], [6096.0, 0.7630295000000006], [30203.0, 0.6921599999999999], [68118.0, 0.7672930000000014], [49529.0, 0.8217560000000013], [61269.0, 0.4031290000000008], [64502.0, 0.7888300000000017], [55850.0, 0.5745604999999996], [71843921.0, 0.7394650000000001], [41563.0, 0.7876759999999995], [106783625.0, 0.39198649999999907], [26321.0, 0.8192109999999994], [11876.0, 0.3921169999999984], [73197.0, 0.5959884999999995], [35389.0, 0.8101464999999989], [30810.0, 0.7966310000000012], [38736.0, 0.7876794999999984], [84815.0, 0.44729699999999867], [116132.0, 0.6598925000000018], [37912.0, 0.403625], [58139.0, 0.6438104999999996], [32563.0, 0.5915879999999998], [42862.0, 0.7560859999999994], [73557446.0, 0.7659435000000012], [11507.0, 0.6110099999999984], [45919.0, 0.43340999999999985], [8917.0, 0.8175449999999983], [43432.0, 0.682125], [8247543.0, 0.2924025000000001], [63191.0, 0.42632400000000054], [10119.0, 0.7885780000000013], [237313.0, 0.6101169999999984], [7599.0, 0.37740799999999947], [123500741.0, 0.5090214999999989], [95880277.0, 0.7148280000000014], [2858.0, 0.6322694999999985], [88657813.0, 0.7147364999999991], [95595.0, 0.8046484999999993], [51279.0, 0.6735879999999997], [34413965.0, 0.4061759999999995], [90267.0, 0.6288729999999996], [101023493.0, 0.6852224999999998], [43963.0, 0.8344959999999992], [45069691.0, 0.5306599999999999], [32366.0, 0.5963300000000017], [47651.0, 0.8030839999999989], [77614.0, 0.5502400000000016], [80095284.0, 0.6021660000000011], [72283619.0, 0.36546299999999976], [19328.0, 0.41908000000000173], [74752477.0, 0.28309549999999944], [50478.0, 0.7890509999999995], [89475.0, 0.7661565000000009], [38996.0, 0.4290665000000008], [36783.0, 0.7188104999999996], [80821.0, 0.43223849999999947], [32662207.0, 0.7938555000000015], [93245.0, 0.4205740000000005], [59686272.0, 0.4142400000000016], [28712.0, 0.641513500000001], [53309853.0, 0.7139120000000002], [52883.0, 0.43075800000000164], [319554.0, 0.5750115000000006], [30303838.0, 0.6386444999999985], [70185284.0, 0.44680849999999916], [79202.0, 0.5679294999999984], [9865.0, 0.6582870000000003], [81730840.0, 0.5978025000000016], [67713721.0, 0.7119294999999983], [21000.0, 0.47153150000000094], [86448.0, 0.8272050000000017], [4508.0, 0.7942615000000005], [90264.0, 0.5905740000000005], [47582.0, 0.6306310000000013], [73055.0, 0.4362384999999995], [78781060.0, 0.3999354999999996], [53886.0, 0.7195020000000004], [43246.0, 0.46545100000000095], [69659448.0, 0.30264250000000176], [331846.0, 0.6120740000000006], [109183399.0, 0.633888500000001], [10139.0, 0.39132800000000134], [13861.0, 0.4356330000000016], [48812.0, 0.3049334999999992], [86923.0, 0.7923009999999995], [8058.0, 0.83225], [52239.0, 0.648469000000001], [43028.0, 0.42615049999999977], [86491.0, 0.7929395000000004], [93143.0, 0.6168944999999986], [67561.0, 0.40892399999999907], [51310.0, 0.6403810000000012], [21463.0, 0.5945349999999998], [30692.0, 0.8116990000000005], [56174841.0, 0.764406500000001], [118329360.0, 0.5927459999999992], [91411.0, 0.6838770000000004], [67589353.0, 0.5004939999999988], [34885.0, 0.4395099999999984], [282714.0, 0.5949979999999996], [99801307.0, 0.4083634999999995], [54818.0, 0.6123770000000004], [55211.0, 0.4089120000000003], [58565.0, 0.4292930000000015], [79100971.0, 0.5056660000000011], [35465.0, 0.5954294999999984], [30518.0, 0.37537299999999957], [31833409.0, 0.6056620000000003], [90861.0, 0.42119150000000083], [57070.0, 0.8021114999999991], [105100736.0, 0.40298849999999947], [3706.0, 0.3787089999999989], [83423091.0, 0.5869334999999992], [25961.0, 0.3011290000000008], [96250777.0, 0.44528299999999943], [55326.0, 0.7601620000000002], [29854.0, 0.5036680000000014], [35007.0, 0.46078499999999983], [58740.0, 0.5858964999999989], [34841.0, 0.8138009999999994], [7980.0, 0.7771114999999991], [41935827.0, 0.7495060000000012], [71856115.0, 0.7240995000000002], [41462721.0, 0.7377694999999985], [53600.0, 0.8034530000000013], [16364.0, 0.41026550000000134], [43871.0, 0.3531094999999987], [67584.0, 0.5917829999999994], [8361.0, 0.6463205000000016], [16463.0, 0.5796775000000016], [270612.0, 0.2764314999999988], [6878.0, 0.42490650000000096], [1439.0, 0.6499805000000015], [30252332.0, 0.4378849999999984], [37262080.0, 0.6612615000000005], [51556.0, 0.7552714999999989], [47788.0, 0.5103535000000011], [18821.0, 0.3501955000000016], [46078.0, 0.7047419999999984], [67962052.0, 0.46597049999999945], [66970.0, 0.7588145000000004], [66691.0, 0.7952560000000012], [89074.0, 0.44684400000000096], [14401.0, 0.5573280000000014], [8664.0, 0.6528165000000008], [81395.0, 0.28784200000000054], [11964.0, 0.785656500000001], [81403.0, 0.46121500000000015], [122200854.0, 0.7043535000000011], [77516.0, 0.7411270000000004], [22139.0, 0.8245900000000002], [24308.0, 0.6064690000000009], [23210.0, 0.8281739999999991], [54530.0, 0.6038025000000016], [30616.0, 0.43601350000000094], [14896.0, 0.6113594999999986], [261127.0, 0.5040214999999989], [75393.0, 0.3661680000000015], [172164.0, 0.4451794999999984], [42458.0, 0.3290214999999989], [18445.0, 0.44722049999999947], [90128.0, 0.5704120000000003], [43398597.0, 0.6154745000000003], [79554.0, 0.6098359999999994], [78269.0, 0.4404629999999997], [52273.0, 0.4631229999999996], [29436.0, 0.5409550000000017], [26928003.0, 0.7896640000000007], [2949.0, 0.6488650000000016], [44125106.0, 0.7464550000000018], [1354.0, 0.6164724999999999], [36471.0, 0.5983025000000016], [77222.0, 0.4887344999999987], [40982.0, 0.5814294999999984], [13226.0, 0.6190469999999987], [24496.0, 0.5403594999999987], [79222.0, 0.3807734999999993], [65476.0, 0.5718865000000005], [67455.0, 0.4113125], [45777.0, 0.8396545000000005], [65314664.0, 0.6619629999999997], [85201260.0, 0.6882479999999996], [6470.0, 0.6002459999999992], [93381.0, 0.3575194999999985], [70291.0, 0.5505900000000001], [125545259.0, 0.7392030000000014], [4853.0, 0.3775489999999991], [11494.0, 0.6064824999999983], [86100374.0, 0.46106450000000043], [42688.0, 0.7944415000000008], [29577.0, 0.7034490000000005], [41084.0, 0.7841640000000006], [29451.0, 0.6210740000000006], [95994.0, 0.5668535000000011], [23650.0, 0.42992750000000163], [94438.0, 0.3993729999999996], [51845.0, 0.34302549999999976], [114341.0, 0.41539050000000133], [94984.0, 0.5725020000000004], [331379.0, 0.7585604999999996], [236095.0, 0.37887299999999957], [5922.0, 0.7914314999999987], [118593909.0, 0.758451000000001], [77806327.0, 0.7441699999999982], [89281.0, 0.32223249999999826], [11331.0, 0.6100879999999997], [24635.0, 0.5903009999999995], [75890.0, 0.5737829999999995], [30811767.0, 0.6789259999999995], [45150.0, 0.6189704999999994], [58233.0, 0.8026660000000011], [39155.0, 0.28933199999999853], [108888.0, 0.8030275000000001], [90896992.0, 0.6657969999999986], [27254.0, 0.29784950000000027], [117185951.0, 0.5272675000000018], [48951815.0, 0.6868535000000011], [66022701.0, 0.7252815000000009], [58990630.0, 0.6252170000000006], [85645570.0, 0.7631525000000001], [4202.0, 0.7841759999999994], [65446.0, 0.7488379999999998], [67466.0, 0.6347560000000012], [66803657.0, 0.3899569999999985], [46881.0, 0.7727324999999983], [59816.0, 0.6995], [79338.0, 0.775781500000001], [57839024.0, 0.312375], [80440.0, 0.4183650000000016], [85076.0, 0.6260254999999998], [6345.0, 0.37828499999999987], [45961.0, 0.4970469999999987], [21875.0, 0.5036875], [177291.0, 0.5832775000000001], [3551.0, 0.6876405000000013], [85682.0, 0.7607795000000006], [77757.0, 0.4266349999999984], [93100.0, 0.46634000000000014], [88.0, 0.5455469999999987], [10110.0, 0.41779300000000147], [33006.0, 0.5018185000000013], [55765.0, 0.7578064999999988], [3652.0, 0.5185080000000016], [81326.0, 0.8146385000000009], [63677512.0, 0.7020859999999993], [187192.0, 0.7272089999999989], [54706.0, 0.5356134999999995], [7226.0, 0.8201504999999998], [7265.0, 0.3289745000000003], [15848.0, 0.45238300000000164], [21754.0, 0.2922795000000006], [39717.0, 0.3090760000000009], [76058.0, 0.5722890000000007], [21431.0, 0.38200600000000123], [35739.0, 0.28405649999999877]] [[0.69079876]\n",
      " [0.7009743 ]\n",
      " [0.49952888]\n",
      " ...\n",
      " [0.55357844]\n",
      " [0.36436296]\n",
      " [0.28998548]]\n"
     ]
    }
   ],
   "source": [
    "print(y_test, y_pred)"
   ]
  },
  {
   "cell_type": "code",
   "execution_count": 25,
   "id": "cdbe0b78-5d63-4f38-b56a-872d17a2fa0c",
   "metadata": {},
   "outputs": [],
   "source": [
    "def display_object(object_id, lightcurve_data, metadata, predicted=0):\n",
    "    lightcurve_data = lightcurve_data[lightcurve_data['object_id'] == object_id]\n",
    "    passbands = []\n",
    "    true_peaktime = metadata[metadata['object_id'] == object_id]['true_peakmjd']\n",
    "    print(true_peaktime)\n",
    "\n",
    "    for freq in range(6):\n",
    "        passbands.append(lightcurve_data[lightcurve_data['passband'] == freq][['mjd', 'flux']])\n",
    "\n",
    "    for p in passbands:\n",
    "        plt.scatter(p['mjd'], p['flux'])\n",
    "        print(true_peaktime)\n",
    "        plt.scatter(true_peaktime, [0])\n",
    "        if predicted > 0:\n",
    "            plt.scatter([predicted], [0])\n",
    "        \n",
    "\n",
    "    # plt.xlabel(\"Modified Julien Date\")\n",
    "\n",
    "    # plt.ylabel(\"Flux\")\n",
    "    \n",
    "    # plt.show()\n",
    "    plt.show()\n"
   ]
  },
  {
   "cell_type": "code",
   "execution_count": null,
   "id": "bc6dd2e5-3665-45f4-a538-f8719a9a596a",
   "metadata": {},
   "outputs": [],
   "source": [
    "display_object(95564, lcs, dftrain, 0.6931620000000003*2000+59000)"
   ]
  },
  {
   "cell_type": "code",
   "execution_count": null,
   "id": "5365825e-c39d-454f-ba56-8f2829a6bce9",
   "metadata": {},
   "outputs": [],
   "source": []
  }
 ],
 "metadata": {
  "kernelspec": {
   "display_name": "Python 3 (ipykernel)",
   "language": "python",
   "name": "python3"
  },
  "language_info": {
   "codemirror_mode": {
    "name": "ipython",
    "version": 3
   },
   "file_extension": ".py",
   "mimetype": "text/x-python",
   "name": "python",
   "nbconvert_exporter": "python",
   "pygments_lexer": "ipython3",
   "version": "3.11.7"
  }
 },
 "nbformat": 4,
 "nbformat_minor": 5
}
