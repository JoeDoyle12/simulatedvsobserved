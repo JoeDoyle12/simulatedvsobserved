{
 "cells": [
  {
   "cell_type": "code",
   "execution_count": null,
   "id": "8a17e578-50f2-434d-a411-09be0161f3dc",
   "metadata": {},
   "outputs": [],
   "source": [
    "import matplotlib.pyplot as plt\n",
    "import pandas as pd"
   ]
  },
  {
   "cell_type": "code",
   "execution_count": null,
   "id": "afae223d-bf90-4cd8-86d4-032833033c9f",
   "metadata": {},
   "outputs": [],
   "source": [
    "def display_object(object_id, lightcurve_data):\n",
    "    lightcurve_data = lightcurve_data[lightcurve_data['object_id'] == object_id]\n",
    "    passbands = []\n",
    "\n",
    "    for freq in range(6):\n",
    "        passbands.append(lightcurve_data[lightcurve_data['passband'] == freq][['mjd', 'flux']])\n",
    "\n",
    "    for p in passbands:\n",
    "        plt.plot(p['mjd'], p['flux'])\n",
    "\n",
    "    plt.xlabel(\"Mean Julian Date\")\n",
    "\n",
    "    plt.ylabel(\"Flux\")\n",
    "    \n",
    "    plt.show()"
   ]
  },
  {
   "cell_type": "code",
   "execution_count": null,
   "id": "4bcf1564-9131-49ac-9761-7aa55b9bca49",
   "metadata": {},
   "outputs": [],
   "source": [
    "dftrain = pd.read_csv(\"data/plasticc_train_metadata.csv\")\n",
    "\n",
    "sn_models = [90, 67, 52, 42, 62, 95, 15]\n",
    "dftrain = dftrain[dftrain['target'].isin(sn_models)]"
   ]
  },
  {
   "cell_type": "code",
   "execution_count": null,
   "id": "39ab65d8-2b5f-44cc-80bc-033dc79aeefa",
   "metadata": {},
   "outputs": [],
   "source": [
    "lcs = pd.read_csv(\"data/plasticc_train_lightcurves.csv\")\n",
    "\n",
    "display_object(615, lcs)"
   ]
  }
 ],
 "metadata": {
  "kernelspec": {
   "display_name": "Python 3 (ipykernel)",
   "language": "python",
   "name": "python3"
  },
  "language_info": {
   "codemirror_mode": {
    "name": "ipython",
    "version": 3
   },
   "file_extension": ".py",
   "mimetype": "text/x-python",
   "name": "python",
   "nbconvert_exporter": "python",
   "pygments_lexer": "ipython3",
   "version": "3.9.6"
  }
 },
 "nbformat": 4,
 "nbformat_minor": 5
}
